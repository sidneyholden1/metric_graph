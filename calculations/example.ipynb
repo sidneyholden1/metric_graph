{
 "cells": [
  {
   "cell_type": "code",
   "execution_count": 5,
   "metadata": {},
   "outputs": [
    {
     "data": {
      "text/html": [
       "\n",
       "<style>\n",
       ".jp-OutputArea-output {max-width: 100% !important;}\n",
       ".jp-Cell-outputWrapper {max-width: 100% !important;}\n",
       ".jp-OutputArea-output pre {max-width: 100% !important;}\n",
       "</style>\n"
      ],
      "text/plain": [
       "<IPython.core.display.HTML object>"
      ]
     },
     "metadata": {},
     "output_type": "display_data"
    }
   ],
   "source": [
    "import numpy as np\n",
    "import matplotlib.pyplot as plt\n",
    "import matplotlib.patches\n",
    "import scipy\n",
    "import pickle\n",
    "import warnings\n",
    "import bidict\n",
    "import collections\n",
    "\n",
    "import sys\n",
    "sys.path.append('..')\n",
    "from construct_graph.graph import Graph, Flat\n",
    "import construct_graph\n",
    "import solve_laplace_operator\n",
    "\n",
    "import sparseqr\n",
    "\n",
    "from IPython.display import display, HTML\n",
    "\n",
    "def calculate_pde_eigenvalues(m, n):\n",
    "    a = 1 / 2\n",
    "    return np.sqrt(((2 * np.pi * m)**2 + (2 * np.pi * n)**2) * a)\n",
    "\n",
    "def style_plot(fig, ax, aspect=\"equal\", label_fontsize=20, no_ticks=False, no_xticks=False, no_yticks=False):\n",
    "\n",
    "    # Remove white space\n",
    "    fig.tight_layout()\n",
    "\n",
    "    # Makes axes aspect equal\n",
    "    if aspect == \"equal\":\n",
    "        ax.set_aspect(aspect)\n",
    "\n",
    "    # Make tick labels bold font\n",
    "    for label in ax.get_xticklabels(minor=True) + ax.get_yticklabels(minor=True):\n",
    "        label.set_fontweight('bold')\n",
    "        label.set_fontsize(label_fontsize)\n",
    "\n",
    "    for label in (ax.get_xticklabels(minor=False) + ax.get_yticklabels(minor=False)):\n",
    "        label.set_fontweight('bold')\n",
    "        label.set_fontsize(label_fontsize)\n",
    "\n",
    "    # Make border thicker\n",
    "    for spine in ax.spines.values():\n",
    "        spine.set_linewidth(2) \n",
    "\n",
    "    # xy_ticks\n",
    "    major_tick_length = 7\n",
    "    minor_tick_length = 4\n",
    "    if no_ticks:\n",
    "        major_xtick_length = 0\n",
    "        major_ytick_length = 0\n",
    "        minor_xtick_length = 0\n",
    "        minor_ytick_length = 0\n",
    "    elif no_xticks:\n",
    "        major_xtick_length = 0\n",
    "        major_ytick_length = major_tick_length\n",
    "        minor_xtick_length = 0\n",
    "        minor_ytick_length = minor_tick_length\n",
    "    elif no_yticks:\n",
    "        major_xtick_length = major_tick_length\n",
    "        major_ytick_length = 0\n",
    "        minor_xtick_length = minor_tick_length\n",
    "        minor_ytick_length = 0\n",
    "    else:\n",
    "        major_xtick_length = major_tick_length\n",
    "        major_ytick_length = major_tick_length\n",
    "        minor_xtick_length = minor_tick_length\n",
    "        minor_ytick_length = minor_tick_length\n",
    "    ax.tick_params(axis='x', which='major', length=major_xtick_length, width=2, direction='out')\n",
    "    ax.tick_params(axis='y', which='major', length=major_ytick_length, width=2, direction='out')\n",
    "    ax.tick_params(axis='x', which='minor', length=minor_xtick_length, width=1, direction='out')\n",
    "    ax.tick_params(axis='y', which='minor', length=minor_ytick_length, width=1, direction='out')"
   ]
  },
  {
   "cell_type": "markdown",
   "metadata": {},
   "source": [
    "### Construct graph"
   ]
  },
  {
   "cell_type": "code",
   "execution_count": 61,
   "metadata": {},
   "outputs": [
    {
     "name": "stdout",
     "output_type": "stream",
     "text": [
      "\n",
      "|V| = 400\n"
     ]
    },
    {
     "data": {
      "image/png": "[encoded data removed]",
      "text/plain": [
       "<Figure size 300x300 with 1 Axes>"
      ]
     },
     "metadata": {},
     "output_type": "display_data"
    }
   ],
   "source": [
    "g = construct_graph.tiling.Tiling(\"square\", \n",
    "                                  num_horizontal_displacements=10,\n",
    "                                  num_vertical_displacements=10,\n",
    "                                  figsize=3)"
   ]
  },
  {
   "cell_type": "markdown",
   "metadata": {},
   "source": [
    "### Find eigenvalues"
   ]
  },
  {
   "cell_type": "code",
   "execution_count": 62,
   "metadata": {},
   "outputs": [],
   "source": [
    "eigs = solve_laplace_operator.solve_laplace_operator.Eigenvalue_Calculator(g)\n",
    "eigenvalues = eigs(np.linspace(3.8, 8, 50), solve_type=\"SVD iterate\", printerval=np.inf, max_steps=20)\n",
    "_, unique_inds = np.unique(np.round(eigenvalues, 8), return_index=True)\n",
    "eigenvalues = eigenvalues[unique_inds]"
   ]
  },
  {
   "cell_type": "markdown",
   "metadata": {},
   "source": [
    "### Collect continuum eigendata to compare against"
   ]
  },
  {
   "cell_type": "code",
   "execution_count": 63,
   "metadata": {},
   "outputs": [],
   "source": [
    "continuum_eigendata = solve_laplace_operator.solve_laplace_operator.Continuum_Eigendata(\"square_flat_torus\")"
   ]
  },
  {
   "cell_type": "markdown",
   "metadata": {},
   "source": [
    "### Pair graph and PDE eigenvalues by comparing eigenspaces"
   ]
  },
  {
   "cell_type": "code",
   "execution_count": 64,
   "metadata": {},
   "outputs": [],
   "source": [
    "projector = solve_laplace_operator.solve_laplace_operator.Projector(g, eigenvalues, continuum_eigendata)"
   ]
  },
  {
   "cell_type": "code",
   "execution_count": 71,
   "metadata": {},
   "outputs": [
    {
     "data": {
      "text/plain": [
       "array([  100,   146,   215,   316,   464,   681,  1000,  1467,  2154,\n",
       "        3162,  4641,  6812, 10000])"
      ]
     },
     "execution_count": 71,
     "metadata": {},
     "output_type": "execute_result"
    }
   ],
   "source": [
    "(10**np.linspace(2, 4, 13)).astype(int)"
   ]
  },
  {
   "cell_type": "code",
   "execution_count": 65,
   "metadata": {},
   "outputs": [],
   "source": [
    "m, n = 1, 0\n",
    "projector(m, n)"
   ]
  },
  {
   "cell_type": "code",
   "execution_count": 66,
   "metadata": {},
   "outputs": [
    {
     "data": {
      "image/png": "[encoded data removed]",
      "text/plain": [
       "<Figure size 400x400 with 1 Axes>"
      ]
     },
     "metadata": {},
     "output_type": "display_data"
    }
   ],
   "source": [
    "g.plot_graph(eigenmode=projector.data[1,0]['graph']['eigenfunction'][3].data, figsize=4)"
   ]
  },
  {
   "cell_type": "code",
   "execution_count": null,
   "metadata": {},
   "outputs": [],
   "source": []
  }
 ],
 "metadata": {
  "kernelspec": {
   "display_name": "base",
   "language": "python",
   "name": "python3"
  },
  "language_info": {
   "codemirror_mode": {
    "name": "ipython",
    "version": 3
   },
   "file_extension": ".py",
   "mimetype": "text/x-python",
   "name": "python",
   "nbconvert_exporter": "python",
   "pygments_lexer": "ipython3",
   "version": "3.10.12"
  }
 },
 "nbformat": 4,
 "nbformat_minor": 2
}
