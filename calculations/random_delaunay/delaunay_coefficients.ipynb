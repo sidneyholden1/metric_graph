{
 "cells": [
  {
   "cell_type": "code",
   "execution_count": 1,
   "metadata": {},
   "outputs": [],
   "source": [
    "import numpy as np\n",
    "import matplotlib.pyplot as plt\n",
    "import scipy\n",
    "import pickle\n",
    "\n",
    "import sys\n",
    "import os\n",
    "\n",
    "project_path = os.path.expanduser('~/repos/metric_graph/')\n",
    "sys.path.append(project_path)\n",
    "\n",
    "from construct_graph.graph import Graph, Flat\n",
    "import construct_graph\n",
    "from calculations.helper_functions import check_convergence\n",
    "\n",
    "%load_ext autoreload\n",
    "%autoreload 2"
   ]
  },
  {
   "cell_type": "markdown",
   "metadata": {},
   "source": [
    "#### Graph sizes to sample:"
   ]
  },
  {
   "cell_type": "code",
   "execution_count": 81,
   "metadata": {},
   "outputs": [
    {
     "name": "stdout",
     "output_type": "stream",
     "text": [
      "num_Vs = [  1000   1584   2511   3981   6309  10000  15848  25118  39810  63095\n",
      " 100000]\n"
     ]
    }
   ],
   "source": [
    "nums_Vs = (10**np.linspace(3, 6, 16)).astype(int)[:11]\n",
    "print(f\"num_Vs = {nums_Vs}\")"
   ]
  },
  {
   "cell_type": "code",
   "execution_count": 101,
   "metadata": {},
   "outputs": [
    {
     "name": "stdout",
     "output_type": "stream",
     "text": [
      "num_Vs = [   1000    1584    2511    3981    6309   10000   15848   25118   39810\n",
      "   63095  100000  158489  251188  398107  630957 1000000]\n"
     ]
    }
   ],
   "source": [
    "nums_Vs = (10**np.linspace(3, 6, 16)).astype(int)\n",
    "print(f\"num_Vs = {nums_Vs}\")"
   ]
  },
  {
   "cell_type": "markdown",
   "metadata": {},
   "source": [
    "### Get coefficients"
   ]
  },
  {
   "cell_type": "markdown",
   "metadata": {},
   "source": [
    "#### By importing"
   ]
  },
  {
   "cell_type": "code",
   "execution_count": 108,
   "metadata": {},
   "outputs": [],
   "source": [
    "# file = open(\"../data/delaunay/coefficients/delaunay_coefficients_cg.pkl\", \"wb\")\n",
    "# pickle.dump(coefficients, file)\n",
    "# file.close()\n",
    "\n",
    "# file = open(\"../data/delaunay/coefficients/delaunay_coefficients_cg.pkl\", \"rb\")\n",
    "# coefficients = pickle.load(file)\n",
    "# file.close()"
   ]
  },
  {
   "cell_type": "markdown",
   "metadata": {},
   "source": [
    "#### By calculation"
   ]
  },
  {
   "cell_type": "code",
   "execution_count": 104,
   "metadata": {},
   "outputs": [
    {
     "name": "stdout",
     "output_type": "stream",
     "text": [
      "\n",
      "SEED = 0, num_Vs = 1000000\n",
      "\n",
      "Residual too large = 3.3943472944369546e-08\n",
      "0.9201245197443716\n"
     ]
    }
   ],
   "source": [
    "seed = 0\n",
    "num_Vs = 1_000_000\n",
    "\n",
    "np.random.seed(seed)\n",
    "rd = construct_graph.patch_graph.Random_Delaunay(num_Vs)\n",
    "g = construct_graph.patch_graph.Patch(rd)\n",
    "print(f\"\\nSEED = {seed}, num_Vs = {g.num_Vs}\\n\")\n",
    "eq = construct_graph.patch_graph.Cell_Problem(g)\n",
    "xi = eq.solve_corrector_equation()\n",
    "c = eq.construct_homogenized_tensor(xi)\n",
    "print(c)"
   ]
  },
  {
   "cell_type": "code",
   "execution_count": 110,
   "metadata": {},
   "outputs": [
    {
     "data": {
      "text/plain": [
       "3000003"
      ]
     },
     "execution_count": 110,
     "metadata": {},
     "output_type": "execute_result"
    }
   ],
   "source": [
    "len(g.edges)"
   ]
  },
  {
   "cell_type": "code",
   "execution_count": 109,
   "metadata": {},
   "outputs": [],
   "source": [
    "# file = open(\"../data/delaunay/graphs/delaunay_torus_1M_vertices_seed_0.pkl\", \"wb\")\n",
    "# pickle.dump(g, file)\n",
    "# file.close()"
   ]
  },
  {
   "cell_type": "code",
   "execution_count": 82,
   "metadata": {},
   "outputs": [
    {
     "name": "stdout",
     "output_type": "stream",
     "text": [
      "\n",
      "\n",
      "graph size = 11 / 11\n",
      "\n",
      "\n",
      "\n",
      "\n",
      "SEED = 0, num_Vs = 100000\n",
      "\n",
      "Residual too large = 1.729195341198118e-09\n",
      "\n",
      "SEED = 1, num_Vs = 100000\n",
      "\n",
      "Residual too large = 1.4668326570697336e-09\n",
      "\n",
      "SEED = 2, num_Vs = 100000\n",
      "\n",
      "Residual too large = 1.9627359233372195e-09\n",
      "\n",
      "Current dif = 1.6389124623171796e-05 vs. adaptive tol = 9.94648863076653e-07\n",
      "\n",
      "\n",
      "SEED = 3, num_Vs = 100000\n",
      "\n",
      "Residual too large = 1.8283599658200377e-09\n",
      "\n",
      "Current dif = 5.7179446283416156e-05 vs. adaptive tol = 4.227975267712541e-07\n",
      "\n",
      "\n",
      "SEED = 4, num_Vs = 100000\n",
      "\n",
      "Residual too large = 1.8629249920101077e-09\n",
      "\n",
      "Current dif = 5.804729243920139e-05 vs. adaptive tol = 1.0032949934149472e-06\n",
      "\n",
      "\n",
      "SEED = 5, num_Vs = 100000\n",
      "\n",
      "Residual too large = 2.4144455446093242e-09\n",
      "\n",
      "Current dif = 2.6137738482798883e-06 vs. adaptive tol = 9.771546325459323e-07\n",
      "\n",
      "\n",
      "SEED = 6, num_Vs = 100000\n",
      "\n",
      "Residual too large = 1.6201993909138485e-09\n",
      "\n",
      "Current dif = 3.329520872045053e-05 vs. adaptive tol = 6.441700107739843e-07\n",
      "\n",
      "\n",
      "SEED = 7, num_Vs = 100000\n",
      "\n",
      "Residual too large = 1.8355775958889136e-09\n",
      "\n",
      "Current dif = 4.4065968491204246e-05 vs. adaptive tol = 1.0848580816614246e-06\n",
      "\n",
      "\n",
      "SEED = 8, num_Vs = 100000\n",
      "\n",
      "Residual too large = 1.4848559337328773e-09\n",
      "\n",
      "Current dif = 5.3680035178878976e-05 vs. adaptive tol = 1.621716668670202e-06\n",
      "\n",
      "\n",
      "SEED = 9, num_Vs = 100000\n",
      "\n",
      "Residual too large = 1.7834379123743556e-09\n",
      "\n",
      "Current dif = 5.467751861962806e-05 vs. adaptive tol = 2.1685805263098296e-06\n",
      "\n",
      "\n",
      "SEED = 10, num_Vs = 100000\n",
      "\n",
      "Residual too large = 1.520688827027245e-09\n",
      "\n",
      "Current dif = 2.6018330198263857e-05 vs. adaptive tol = 2.428820251136663e-06\n",
      "\n",
      "\n",
      "SEED = 11, num_Vs = 100000\n",
      "\n",
      "Residual too large = 1.5997485117337683e-09\n",
      "\n",
      "Current dif = 1.3701477678483783e-05 vs. adaptive tol = 2.2917721959253694e-06\n",
      "\n",
      "\n",
      "SEED = 12, num_Vs = 100000\n",
      "\n",
      "Residual too large = 1.6825375899652056e-09\n",
      "\n",
      "Current dif = 2.8964749863737235e-05 vs. adaptive tol = 2.0020583166795972e-06\n",
      "\n",
      "\n",
      "SEED = 13, num_Vs = 100000\n",
      "\n",
      "Residual too large = 1.8261593237390982e-09\n",
      "\n",
      "Current dif = 1.2137636055759499e-05 vs. adaptive tol = 2.1234589774924025e-06\n",
      "\n",
      "\n",
      "SEED = 14, num_Vs = 100000\n",
      "\n",
      "Residual too large = 1.8694245625106185e-09\n",
      "\n",
      "Current dif = 1.9469492621451175e-05 vs. adaptive tol = 2.3181952463758086e-06\n",
      "\n",
      "\n",
      "SEED = 15, num_Vs = 100000\n",
      "\n",
      "Residual too large = 1.7698923561924663e-09\n",
      "\n",
      "Current dif = 8.960158418580041e-06 vs. adaptive tol = 2.2285728907933555e-06\n",
      "\n",
      "\n",
      "SEED = 16, num_Vs = 100000\n",
      "\n",
      "Residual too large = 1.5770456421755618e-09\n",
      "\n",
      "Current dif = 1.9976977071398432e-05 vs. adaptive tol = 2.428387181656881e-06\n",
      "\n",
      "\n",
      "SEED = 17, num_Vs = 100000\n",
      "\n",
      "Residual too large = 1.4673814673258958e-09\n",
      "\n",
      "Current dif = 2.1656649706545417e-05 vs. adaptive tol = 2.6450062694528804e-06\n",
      "\n",
      "\n",
      "SEED = 18, num_Vs = 100000\n",
      "\n",
      "Residual too large = 1.8119565329810006e-09\n",
      "\n",
      "Current dif = 1.1027393663028033e-05 vs. adaptive tol = 2.755309373608535e-06\n",
      "\n",
      "\n",
      "SEED = 19, num_Vs = 100000\n",
      "\n",
      "Residual too large = 1.5425841214322876e-09\n",
      "\n",
      "Current dif = 3.8579830045639316e-05 vs. adaptive tol = 2.369404773784785e-06\n",
      "\n",
      "\n",
      "SEED = 20, num_Vs = 100000\n",
      "\n",
      "Residual too large = 1.5988281629150507e-09\n",
      "\n",
      "Current dif = 5.298800468133972e-06 vs. adaptive tol = 2.3164042141003207e-06\n",
      "\n",
      "\n",
      "SEED = 21, num_Vs = 100000\n",
      "\n",
      "Residual too large = 1.6369245039943021e-09\n",
      "\n",
      "Current dif = 3.504041171269773e-05 vs. adaptive tol = 2.666889498984653e-06\n",
      "\n",
      "\n",
      "SEED = 22, num_Vs = 100000\n",
      "\n",
      "Residual too large = 1.6197482161585627e-09\n",
      "\n",
      "Current dif = 1.0264867278849415e-07 vs. adaptive tol = 2.6658627385041005e-06\n",
      "\n"
     ]
    }
   ],
   "source": [
    "# coefficients = {}\n",
    "\n",
    "for en, num_Vs in enumerate(nums_Vs[-1:]):\n",
    "\n",
    "    en += len(nums_Vs) - 1\n",
    "\n",
    "    print(f\"\\n\\ngraph size = {en + 1} / {len(nums_Vs)}\\n\\n\\n\")\n",
    "\n",
    "    coefficients[num_Vs] = []\n",
    "    check = False\n",
    "    seed = -1\n",
    "\n",
    "    if en == 0:\n",
    "        previous_mean = None\n",
    "    else:\n",
    "        previous_mean = np.mean(coefficients[nums_Vs[en - 1]])\n",
    "\n",
    "    while not check:\n",
    "        seed += 1\n",
    "        np.random.seed(seed)\n",
    "        rd = construct_graph.patch_graph.Random_Delaunay(num_Vs)\n",
    "        g = construct_graph.patch_graph.Patch(rd)\n",
    "        print(f\"\\nSEED = {seed}, num_Vs = {g.num_Vs}\\n\")\n",
    "        eq = construct_graph.patch_graph.Cell_Problem(g)\n",
    "        xi = eq.solve_corrector_equation()\n",
    "\n",
    "        coefficients[num_Vs].append(eq.construct_homogenized_tensor(xi))\n",
    "\n",
    "        check = check_convergence(coefficients[num_Vs], mean_previous_graph_size=previous_mean)"
   ]
  },
  {
   "cell_type": "code",
   "execution_count": 86,
   "metadata": {},
   "outputs": [],
   "source": [
    "coefficients_means = []\n",
    "for num_Vs in nums_Vs:\n",
    "    coefficients_means.append(np.mean(coefficients[num_Vs]))\n",
    "coefficients_means = np.array(coefficients_means)"
   ]
  },
  {
   "cell_type": "code",
   "execution_count": 90,
   "metadata": {},
   "outputs": [
    {
     "data": {
      "text/plain": [
       "0.9193942977769072"
      ]
     },
     "execution_count": 90,
     "metadata": {},
     "output_type": "execute_result"
    }
   ],
   "source": [
    "coefficients_means[-1]"
   ]
  },
  {
   "cell_type": "code",
   "execution_count": 88,
   "metadata": {},
   "outputs": [
    {
     "data": {
      "image/png": "[encoded data removed]",
      "text/plain": [
       "<Figure size 800x600 with 1 Axes>"
      ]
     },
     "metadata": {},
     "output_type": "display_data"
    }
   ],
   "source": [
    "fig, ax = plt.subplots(1, 1, figsize=(8, 6))\n",
    "\n",
    "ax.loglog(nums_Vs, coefficients_means, 'o-', markersize=8, c='b', linewidth=2)\n",
    "for num_Vs in nums_Vs:\n",
    "    x = num_Vs * np.ones(len(coefficients[num_Vs]))\n",
    "    y = coefficients[num_Vs]\n",
    "    ax.scatter(x, y, s=0.5, c='b')"
   ]
  },
  {
   "cell_type": "code",
   "execution_count": 89,
   "metadata": {},
   "outputs": [
    {
     "data": {
      "text/plain": [
       "[<matplotlib.lines.Line2D at 0x346b6e5f0>]"
      ]
     },
     "execution_count": 89,
     "metadata": {},
     "output_type": "execute_result"
    },
    {
     "data": {
      "image/png": "[encoded data removed]",
      "text/plain": [
       "<Figure size 800x600 with 1 Axes>"
      ]
     },
     "metadata": {},
     "output_type": "display_data"
    }
   ],
   "source": [
    "difs = [np.abs(coefficients_means[i] - coefficients_means[i + 1]) for i in range(len(coefficients_means) - 1)]\n",
    "num_Vs_difs = [np.abs(nums_Vs[i] - nums_Vs[i + 1]) for i in range(len(coefficients_means) - 1)]\n",
    "\n",
    "fig, ax = plt.subplots(1, 1, figsize=(8, 6))\n",
    "\n",
    "ax.loglog(num_Vs_difs, difs, 'o-', markersize=10, c='b', linewidth=2)\n",
    "ax.loglog(num_Vs_difs, np.array(num_Vs_difs)**(-0.5), markersize=10, c='r', linewidth=2)"
   ]
  },
  {
   "cell_type": "code",
   "execution_count": null,
   "metadata": {},
   "outputs": [],
   "source": []
  }
 ],
 "metadata": {
  "kernelspec": {
   "display_name": "metric_graph",
   "language": "python",
   "name": "python3"
  },
  "language_info": {
   "codemirror_mode": {
    "name": "ipython",
    "version": 3
   },
   "file_extension": ".py",
   "mimetype": "text/x-python",
   "name": "python",
   "nbconvert_exporter": "python",
   "pygments_lexer": "ipython3",
   "version": "3.10.15"
  }
 },
 "nbformat": 4,
 "nbformat_minor": 2
}
