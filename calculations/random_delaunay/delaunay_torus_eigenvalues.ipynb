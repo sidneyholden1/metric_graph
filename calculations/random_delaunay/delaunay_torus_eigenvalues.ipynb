{
 "cells": [
  {
   "cell_type": "code",
   "execution_count": 21,
   "metadata": {},
   "outputs": [
    {
     "name": "stdout",
     "output_type": "stream",
     "text": [
      "The autoreload extension is already loaded. To reload it, use:\n",
      "  %reload_ext autoreload\n"
     ]
    }
   ],
   "source": [
    "import numpy as np\n",
    "import matplotlib.pyplot as plt\n",
    "import scipy\n",
    "import pickle\n",
    "\n",
    "import sys\n",
    "import os\n",
    "\n",
    "project_path = os.path.expanduser('~/repos/metric_graph/')\n",
    "sys.path.append(project_path)\n",
    "\n",
    "from construct_graph.graph import Graph, Flat\n",
    "import construct_graph\n",
    "from calculations.helper_functions import check_convergence, sequential_Newton\n",
    "import solve_laplace_operator\n",
    "\n",
    "%load_ext autoreload\n",
    "%autoreload 2"
   ]
  },
  {
   "cell_type": "code",
   "execution_count": 66,
   "metadata": {},
   "outputs": [
    {
     "name": "stdout",
     "output_type": "stream",
     "text": [
      "[   1000    1584    2511    3981    6309   10000   15848   25118   39810\n",
      "   63095  100000  158489  251188  398107  630957 1000000]\n"
     ]
    }
   ],
   "source": [
    "start_power, end_power = 3, 6\n",
    "nums_Vs = (10**np.linspace(start_power, end_power, (end_power - start_power) * 5 + 1)).astype(int)\n",
    "print(nums_Vs)"
   ]
  },
  {
   "cell_type": "code",
   "execution_count": 152,
   "metadata": {},
   "outputs": [],
   "source": [
    "# file = open(\"../data/delaunay/torus_eigenvalues/delaunay_eigenvalues.pkl\", \"wb\")\n",
    "# pickle.dump(eigenvalues, file)\n",
    "# file.close()\n",
    "\n",
    "# file = open(\"../data/delaunay/torus_eigenvalues/delaunay_eigenvalues.pkl\", \"rb\")\n",
    "# old_eigenvalues = pickle.load(file)\n",
    "# file.close()"
   ]
  },
  {
   "cell_type": "code",
   "execution_count": 75,
   "metadata": {},
   "outputs": [],
   "source": [
    "# eigenvalues = {}\n",
    "\n",
    "# for en, num_Vs in enumerate(nums_Vs):\n",
    "\n",
    "#     print(f\"\\n\\ngraph size = {en + 1} / {len(nums_Vs)}\\n\\n\\n\")\n",
    "\n",
    "#     eigenvalues[num_Vs] = []\n",
    "#     check = False\n",
    "#     seed = -1\n",
    "\n",
    "#     if num_Vs < 900:\n",
    "#         guesses = np.linspace(3.5, 4.5, 40)\n",
    "#     elif num_Vs < 2000:\n",
    "#         guesses = np.linspace(3.9, 4.45, 30)\n",
    "#     elif num_Vs < 4000:\n",
    "#         guesses = np.linspace(4.1, 4.4, 20)\n",
    "#     else:\n",
    "#         guesses = np.linspace(4.2, 4.3, 12)\n",
    "\n",
    "#     if en == 0:\n",
    "#         previous_mean = None\n",
    "#     else:\n",
    "#         previous_mean = np.mean(eigenvalues[nums_Vs[en - 1]])\n",
    "\n",
    "#     means = []\n",
    "\n",
    "#     while not check:\n",
    "#         seed += 1\n",
    "#         np.random.seed(seed)\n",
    "#         rd = construct_graph.patch_graph.Random_Delaunay(num_Vs)\n",
    "#         g = construct_graph.patch_graph.Patch(rd)\n",
    "#         print(f\"\\nSEED = {seed}, num_Vs = {g.num_Vs}\\n\")\n",
    "#         eigs = solve_laplace_operator.solve_laplace_operator.Eigenvalue_Calculator(g)\n",
    "#         full_solutions = sequential_Newton(guesses, eigs)\n",
    "#         if len(full_solutions) != 4:\n",
    "#             eigenvalues[num_Vs].append([\"bad\", full_solutions])\n",
    "#         else:\n",
    "#             eigenvalues[num_Vs].append(full_solutions)\n",
    "#             means.append(np.mean(full_solutions))\n",
    "#             print(full_solutions)\n",
    "#             print(means)\n",
    "\n",
    "#         check = check_convergence(means, mean_previous_graph_size=previous_mean)"
   ]
  },
  {
   "cell_type": "code",
   "execution_count": 93,
   "metadata": {},
   "outputs": [
    {
     "name": "stdout",
     "output_type": "stream",
     "text": [
      "\n",
      "\n",
      "graph size = 1 / 16\n",
      "\n",
      "\n",
      "\n",
      "\n",
      "SEED = 0, num_Vs = 158489\n",
      "\n",
      "\n",
      "Calculating eigenvalue:\n",
      "\n",
      "\n",
      "Calculating eig number 0\n",
      "\n",
      "----------------------\n",
      "Converged at step 0:\n",
      "\n",
      "k = 4.24982359503077\n",
      "----------------------\n",
      "\n",
      "Calculating eig number 1\n",
      "\n",
      "----------------------\n",
      "Converged at step 0:\n",
      "\n",
      "k = 4.256398379416771\n",
      "----------------------\n",
      "\n",
      "Calculating eig number 2\n",
      "\n",
      "----------------------\n",
      "Converged at step 2:\n",
      "\n",
      "k = 4.263170883535018\n",
      "----------------------\n",
      "\n",
      "Calculating eig number 3\n",
      "\n",
      "----------------------\n",
      "Converged at step 2:\n",
      "\n",
      "k = 4.276135914408561\n",
      "----------------------\n",
      "[4.2498236  4.25639838 4.26317088 4.27613591]\n",
      "[4.261382193097781]\n",
      "\n",
      "Calculating coefficient:\n",
      "\n",
      "Residual too large = 3.1952172545286757e-09\n",
      "\n",
      "\n",
      "graph size = 2 / 16\n",
      "\n",
      "\n",
      "\n",
      "\n",
      "SEED = 0, num_Vs = 251188\n",
      "\n",
      "\n",
      "Calculating eigenvalue:\n",
      "\n",
      "\n",
      "Calculating eig number 0\n",
      "\n",
      "----------------------\n",
      "Converged at step 2:\n",
      "\n",
      "k = 4.254526622783959\n",
      "----------------------\n",
      "\n",
      "Calculating eig number 1\n",
      "\n",
      "----------------------\n",
      "Converged at step 2:\n",
      "\n",
      "k = 4.26262850772492\n",
      "----------------------\n",
      "\n",
      "Calculating eig number 2\n",
      "\n",
      "----------------------\n",
      "Converged at step 2:\n",
      "\n",
      "k = 4.269577281008524\n",
      "----------------------\n",
      "\n",
      "Calculating coefficient:\n",
      "\n",
      "Residual too large = 6.1711806900626616e-09\n",
      "\n",
      "\n",
      "graph size = 3 / 16\n",
      "\n",
      "\n",
      "\n",
      "\n",
      "SEED = 0, num_Vs = 398107\n",
      "\n",
      "\n",
      "Calculating eigenvalue:\n",
      "\n",
      "\n",
      "Calculating eig number 0\n",
      "\n",
      "----------------------\n",
      "Converged at step 2:\n",
      "\n",
      "k = 4.255350407351842\n",
      "----------------------\n",
      "\n",
      "Calculating eig number 1\n",
      "\n",
      "----------------------\n",
      "Converged at step 1:\n",
      "\n",
      "k = 4.261698118133504\n",
      "----------------------\n",
      "\n",
      "Calculating eig number 2\n",
      "\n",
      "----------------------\n",
      "Converged at step 2:\n",
      "\n",
      "k = 4.269261224301018\n",
      "----------------------\n",
      "\n",
      "Calculating coefficient:\n",
      "\n",
      "Residual too large = 1.0908371587904969e-08\n"
     ]
    }
   ],
   "source": [
    "temp_eigenvalues = {}\n",
    "temp_coefficients = {}\n",
    "\n",
    "for en, num_Vs in enumerate(nums_Vs[11:-2]):\n",
    "\n",
    "    print(f\"\\n\\ngraph size = {en + 1} / {len(nums_Vs)}\\n\\n\\n\")\n",
    "\n",
    "    temp_eigenvalues[num_Vs] = []\n",
    "    temp_coefficients[num_Vs] = []\n",
    "    check = False\n",
    "    seed = -1\n",
    "\n",
    "    guesses = np.linspace(4.2, 4.3, 12)\n",
    "\n",
    "    means = []\n",
    "\n",
    "    seed = 0\n",
    "    np.random.seed(seed)\n",
    "    rd = construct_graph.patch_graph.Random_Delaunay(num_Vs)\n",
    "    g = construct_graph.patch_graph.Patch(rd)\n",
    "    print(f\"\\nSEED = {seed}, num_Vs = {g.num_Vs}\\n\")\n",
    "    print(\"\\nCalculating eigenvalue:\\n\")\n",
    "    eigs = solve_laplace_operator.solve_laplace_operator.Eigenvalue_Calculator(g)\n",
    "    full_solutions = sequential_Newton(guesses, eigs)\n",
    "    if len(full_solutions) != 4:\n",
    "        temp_eigenvalues[num_Vs].append([\"bad\", full_solutions])\n",
    "    else:\n",
    "        temp_eigenvalues[num_Vs].append(full_solutions)\n",
    "        means.append(np.mean(full_solutions))\n",
    "        print(full_solutions)\n",
    "        print(means)\n",
    "\n",
    "    print(\"\\nCalculating coefficient:\\n\")\n",
    "    eq = construct_graph.patch_graph.Cell_Problem(g)\n",
    "    xi = eq.solve_corrector_equation()\n",
    "\n",
    "    temp_coefficients[num_Vs].append(eq.construct_homogenized_tensor(xi))"
   ]
  },
  {
   "cell_type": "code",
   "execution_count": 136,
   "metadata": {},
   "outputs": [
    {
     "name": "stdout",
     "output_type": "stream",
     "text": [
      "\n",
      "Calculating eig number 0\n",
      "\n",
      "----------------------\n",
      "Converged at step 2:\n",
      "\n",
      "k = 4.255350407351784\n",
      "----------------------\n",
      "[4.25535041]\n"
     ]
    }
   ],
   "source": [
    "seed = 0\n",
    "np.random.seed(251188)\n",
    "rd = construct_graph.patch_graph.Random_Delaunay(num_Vs)\n",
    "g = construct_graph.patch_graph.Patch(rd)\n",
    "guesses = np.array([4.257])\n",
    "full_solutions = sequential_Newton(guesses, eigs)\n",
    "print(full_solutions)"
   ]
  },
  {
   "cell_type": "code",
   "execution_count": 146,
   "metadata": {},
   "outputs": [
    {
     "data": {
      "text/plain": [
       "{158489: [array([4.2498236 , 4.25639838, 4.26317088, 4.27613591])],\n",
       " 251188: [array([4.25452662, 4.25535041, 4.26262851, 4.26957728])],\n",
       " 398107: [array([4.25535041, 4.25953823, 4.26169812, 4.26926122])]}"
      ]
     },
     "execution_count": 146,
     "metadata": {},
     "output_type": "execute_result"
    }
   ],
   "source": [
    "draft_temp_eigenvalues"
   ]
  },
  {
   "cell_type": "code",
   "execution_count": 153,
   "metadata": {},
   "outputs": [
    {
     "data": {
      "text/plain": [
       "{158489: [0.9200310276448727],\n",
       " 251188: [0.9198012005556793],\n",
       " 398107: [0.9200326185907174]}"
      ]
     },
     "execution_count": 153,
     "metadata": {},
     "output_type": "execute_result"
    }
   ],
   "source": [
    "temp_coefficients"
   ]
  },
  {
   "cell_type": "code",
   "execution_count": 162,
   "metadata": {},
   "outputs": [],
   "source": [
    "# file = open(\"../data/delaunay/coefficients/delaunay_coefficients_cg.pkl\", \"wb\")\n",
    "# pickle.dump(coefficients, file)\n",
    "# file.close()"
   ]
  },
  {
   "cell_type": "code",
   "execution_count": null,
   "metadata": {},
   "outputs": [],
   "source": []
  }
 ],
 "metadata": {
  "kernelspec": {
   "display_name": "Python 3",
   "language": "python",
   "name": "python3"
  },
  "language_info": {
   "codemirror_mode": {
    "name": "ipython",
    "version": 3
   },
   "file_extension": ".py",
   "mimetype": "text/x-python",
   "name": "python",
   "nbconvert_exporter": "python",
   "pygments_lexer": "ipython3",
   "version": "3.10.15"
  }
 },
 "nbformat": 4,
 "nbformat_minor": 2
}
