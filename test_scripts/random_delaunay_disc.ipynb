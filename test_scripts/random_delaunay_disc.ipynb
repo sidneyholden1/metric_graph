{
 "cells": [
  {
   "cell_type": "code",
   "execution_count": 27,
   "metadata": {},
   "outputs": [],
   "source": [
    "import numpy as np\n",
    "import matplotlib.pyplot as plt\n",
    "import matplotlib.patches\n",
    "import scipy\n",
    "import pickle\n",
    "import warnings\n",
    "\n",
    "import sys\n",
    "sys.path.append('..')\n",
    "from construct_graph.graph import Graph, Flat\n",
    "import construct_graph\n",
    "import solve_laplace_operator\n",
    "\n",
    "import sparseqr\n",
    "\n",
    "def calculate_pde_eigenvalues(m, n):\n",
    "    return np.sqrt(scipy.special.jn_zeros(m, n + 1)[-1]**2 / 2)\n",
    "\n",
    "def generate_guesses(x, num_Vs):\n",
    "    guesses = []\n",
    "    for i in x:  \n",
    "        if np.abs(i) < 1e-15:\n",
    "            guesses.append(np.array([1e-15]))\n",
    "        else:\n",
    "            if num_Vs < 2000:\n",
    "                guesses.append(np.linspace(0.8 * i, i + 0.2, 80))\n",
    "            else:\n",
    "                guesses.append(np.linspace(0.93 * i, i + 0.02, 60))\n",
    "                \n",
    "    return np.concatenate(guesses)"
   ]
  },
  {
   "cell_type": "code",
   "execution_count": 28,
   "metadata": {},
   "outputs": [],
   "source": [
    "seed = 2\n",
    "np.random.seed(seed)\n",
    "g = construct_graph.random_delaunay_disc.Random_Delaunay_Disc(1000, fix_boundary=True, auto_plot=False)\n",
    "eigenvalue_data = {}\n",
    "eigenvalue_data[g.num_Vs] = {}"
   ]
  },
  {
   "cell_type": "code",
   "execution_count": 31,
   "metadata": {},
   "outputs": [
    {
     "name": "stdout",
     "output_type": "stream",
     "text": [
      "\n",
      "Calculating eig number 0\n",
      "\n",
      "Count = 1\n",
      "k = 1.64\n",
      "\n",
      "Count = 2\n",
      "k = 1.6417618026076946\n",
      "\n",
      "Count = 3\n",
      "k = 1.6435339087942056\n",
      "\n",
      "Count = 4\n",
      "k = 1.645330431853842\n",
      "\n",
      "Count = 5\n",
      "k = 1.6470622428684745\n",
      "\n",
      "Count = 6\n",
      "k = 1.6488627992194262\n",
      "\n",
      "Count = 7\n",
      "k = 1.650634539098659\n",
      "\n",
      "Count = 8\n",
      "k = 1.6523623423686675\n",
      "\n",
      "Count = 9\n",
      "k = 1.6540171727331945\n",
      "\n",
      "Count = 10\n",
      "k = 1.655653423963602\n",
      "\n",
      "Count = 11\n",
      "k = 1.6572832914420514\n",
      "\n",
      "Count = 12\n",
      "k = 1.6587962476567761\n",
      "\n",
      "Count = 13\n",
      "k = 1.6604470173655521\n",
      "\n",
      "Count = 14\n",
      "k = 1.6620304346148806\n",
      "\n",
      "Count = 15\n",
      "k = 1.6636888192065626\n",
      "\n",
      "Count = 16\n",
      "k = 1.6651667369485317\n",
      "\n",
      "Count = 17\n",
      "k = 1.6664614270736031\n",
      "\n",
      "Count = 18\n",
      "k = 1.667508066934553\n",
      "\n",
      "Count = 19\n",
      "k = 1.6686748241065135\n",
      "\n",
      "Count = 20\n",
      "k = 1.6697574100897137\n",
      "\n",
      "Count = 21\n",
      "k = 1.6708004560600918\n",
      "\n",
      "Count = 22\n",
      "k = 1.6709065490206743\n",
      "\n",
      "Count = 23\n",
      "k = 1.6709101382825757\n",
      "\n",
      "Count = 24\n",
      "k = 1.6709103814846094\n",
      "\n",
      "Count = 25\n",
      "k = 1.670910515658921\n",
      "\n",
      "Count = 26\n",
      "k = 1.6709104742336638\n",
      "\n",
      "Count = 27\n",
      "k = 1.6709104653189484\n",
      "\n",
      "Count = 28\n",
      "k = 1.6709104670525248\n",
      "\n",
      "Count = 29\n",
      "k = 1.6709104687761644\n",
      "\n",
      "Count = 30\n",
      "k = 1.670910467876563\n",
      "\n",
      "Count = 31\n",
      "k = 1.6709104682642226\n",
      "\n",
      "Count = 32\n",
      "k = 1.670910467934693\n",
      "\n",
      "Count = 33\n",
      "k = 1.670910468101242\n",
      "\n",
      "Count = 34\n",
      "k = 1.6709104680823372\n",
      "\n",
      "Count = 35\n",
      "k = 1.6709104680952316\n",
      "\n",
      "Count = 36\n",
      "k = 1.670910468091898\n",
      "\n",
      "----------------------\n",
      "Converged at step 35:\n",
      "\n",
      "k = 1.6709104680918736\n",
      "----------------------\n"
     ]
    }
   ],
   "source": [
    "printerval = 1\n",
    "\n",
    "guesses = np.concatenate((np.array([1e-15]), np.linspace(1.64, 1.65, 1)))[1:]\n",
    "eigs = solve_laplace_operator.solve_laplace_operator.Eigenvalue_Calculator(g)\n",
    "ks = eigs(guesses, printerval=printerval, max_steps=1000, tol=1e-12, solve_type=\"Newton trace estimation\", estimation_type=\"Rademacher\", num_vectors=20)\n",
    "_, index = np.unique(np.round(ks, 6), return_index=True)\n",
    "eigenvalues = ks[index]"
   ]
  },
  {
   "cell_type": "code",
   "execution_count": 25,
   "metadata": {},
   "outputs": [
    {
     "name": "stdout",
     "output_type": "stream",
     "text": [
      "[1.6394]\n"
     ]
    }
   ],
   "source": [
    "eigenvalue_data[g.num_Vs][seed] = eigenvalues.copy()\n",
    "print(np.round(eigenvalues, 4))"
   ]
  },
  {
   "cell_type": "code",
   "execution_count": 26,
   "metadata": {},
   "outputs": [
    {
     "data": {
      "text/plain": [
       "array([0.9641022])"
      ]
     },
     "execution_count": 26,
     "metadata": {},
     "output_type": "execute_result"
    }
   ],
   "source": [
    "eigenvalue_data[g.num_Vs][seed] / calculate_pde_eigenvalues(0, 0)"
   ]
  },
  {
   "cell_type": "code",
   "execution_count": null,
   "metadata": {},
   "outputs": [],
   "source": []
  }
 ],
 "metadata": {
  "kernelspec": {
   "display_name": "base",
   "language": "python",
   "name": "python3"
  },
  "language_info": {
   "codemirror_mode": {
    "name": "ipython",
    "version": 3
   },
   "file_extension": ".py",
   "mimetype": "text/x-python",
   "name": "python",
   "nbconvert_exporter": "python",
   "pygments_lexer": "ipython3",
   "version": "3.10.12"
  }
 },
 "nbformat": 4,
 "nbformat_minor": 2
}
