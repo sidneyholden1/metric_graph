{
 "cells": [
  {
   "cell_type": "code",
   "execution_count": 1,
   "metadata": {},
   "outputs": [
    {
     "data": {
      "text/html": [
       "\n",
       "<style>\n",
       ".jp-OutputArea-output {max-width: 100% !important;}\n",
       ".jp-Cell-outputWrapper {max-width: 100% !important;}\n",
       ".jp-OutputArea-output pre {max-width: 100% !important;}\n",
       "</style>\n"
      ],
      "text/plain": [
       "<IPython.core.display.HTML object>"
      ]
     },
     "metadata": {},
     "output_type": "display_data"
    }
   ],
   "source": [
    "import numpy as np\n",
    "import matplotlib.pyplot as plt\n",
    "import matplotlib.patches\n",
    "import scipy\n",
    "import pickle\n",
    "import warnings\n",
    "import bidict\n",
    "import collections\n",
    "\n",
    "import sys\n",
    "sys.path.append('..')\n",
    "from construct_graph.graph import Graph, Flat\n",
    "import construct_graph\n",
    "import solve_laplace_operator\n",
    "\n",
    "import sparseqr\n",
    "\n",
    "from IPython.display import display, HTML\n",
    "\n",
    "display(HTML(\"\"\"\n",
    "<style>\n",
    ".jp-OutputArea-output {max-width: 100% !important;}\n",
    ".jp-Cell-outputWrapper {max-width: 100% !important;}\n",
    ".jp-OutputArea-output pre {max-width: 100% !important;}\n",
    "</style>\n",
    "\"\"\"))"
   ]
  },
  {
   "cell_type": "code",
   "execution_count": 3,
   "metadata": {},
   "outputs": [],
   "source": [
    "class Renormalization:\n",
    "\n",
    "    def __init__(self, g, partition_type=\"by_tile\", num_patches_per_dim=None, autoplot=True):\n",
    "\n",
    "        self.g = g\n",
    "        self.partition_type = partition_type\n",
    "\n",
    "        if self.partition_type == \"by_patch\":\n",
    "            self.num_patches_per_dim = num_patches_per_dim\n",
    "            self.num_patches = self.num_patches_per_dim**2\n",
    "            self.patch_side_length = 1.0 / self.num_patches_per_dim\n",
    "        elif self.partition_type == \"by_tile\":\n",
    "            self.num_patches = (self.g.num_horizontal_displacements \n",
    "                                * self.g.num_vertical_displacements)\n",
    "\n",
    "        self.super_V_coords, self.patch_coords, self.V_to_super_V, self.translations = self.partition_graph()\n",
    "        self.E_data = self.construct_E_data()\n",
    "\n",
    "        if autoplot:\n",
    "            self.plot_patching(figsize=5)\n",
    "\n",
    "    def __call__(self, calculation=\"full\"):\n",
    "\n",
    "        if calculation == \"full\":\n",
    "\n",
    "            alpha_x, alpha_y = self.solve_for_bilinear_coefficients()\n",
    "\n",
    "            Q = [np.zeros((2, 2)) for _ in range(self.num_patches)]\n",
    "            T = [0 for _ in range(self.num_patches)]\n",
    "\n",
    "            for v, w in self.E_data:\n",
    "                \n",
    "                l_vw, r_ij = self.E_data[v, w][\"l_vw\"], self.E_data[v, w][\"r_ij\"]\n",
    "                alpha_v = np.array([alpha_x[v], alpha_y[v]])\n",
    "                alpha_w = np.array([alpha_x[w], alpha_y[w]])\n",
    "                fac = (r_ij + alpha_w - alpha_v)\n",
    "                T[self.V_to_super_V[v][\"patch_num\"]] += l_vw\n",
    "                Q[self.V_to_super_V[v][\"patch_num\"]] += fac[:, None] @ fac[None, :] / l_vw\n",
    "\n",
    "        return Q, T\n",
    "    \n",
    "    def solve_for_bilinear_coefficients(self):\n",
    "\n",
    "        C = scipy.sparse.lil_matrix((self.g.num_Vs + 1, self.g.num_Vs))\n",
    "        Dx = np.zeros(self.g.num_Vs + 1)\n",
    "        Dy = np.zeros(self.g.num_Vs + 1)\n",
    "        \n",
    "        for v, w in self.E_data:\n",
    "\n",
    "            l_vw, r_ij = self.E_data[v, w][\"l_vw\"], self.E_data[v, w][\"r_ij\"]\n",
    "\n",
    "            C[v, w] -= 1 / l_vw\n",
    "            C[v, v] += 1 / l_vw\n",
    "\n",
    "            Dx[v] += r_ij[0] / l_vw\n",
    "            Dy[v] += r_ij[1] / l_vw\n",
    "\n",
    "        C[-1] = np.ones(self.g.num_Vs)\n",
    "        C = scipy.sparse.csc_matrix(C)\n",
    "\n",
    "        alpha_x = scipy.sparse.linalg.lsqr(C, Dx)[0] \n",
    "        alpha_y = scipy.sparse.linalg.lsqr(C, Dy)[0]\n",
    "\n",
    "        return alpha_x, alpha_y\n",
    "\n",
    "    def partition_graph(self):\n",
    "        \n",
    "        super_V_coords = []\n",
    "        V_to_super_V = {}\n",
    "        super_V_to_V = collections.defaultdict(list)\n",
    "        patch_coords = []\n",
    "\n",
    "        if self.partition_type == \"by_tile\":\n",
    "\n",
    "            tile_num = -1\n",
    "            for row in range(self.g.num_vertical_displacements):\n",
    "                for col in range(self.g.num_horizontal_displacements):\n",
    "                    tile_num += 1\n",
    "                    v_indices = np.arange(tile_num * self.g.num_Vs_for_tile, (tile_num + 1) * self.g.num_Vs_for_tile)\n",
    "                    tile = self.g.V_coords[v_indices]\n",
    "                    super_V_coords.append(np.mean(tile, axis=0))\n",
    "                    for v_index in v_indices:\n",
    "                        V_to_super_V[v_index] = {\"patch_num\": tile_num, \n",
    "                                                 \"patch_indices\": np.array([col, row])}\n",
    "\n",
    "            # Calculate x, y translations by looking at displacements between tiles\n",
    "            max_displacement = np.max([self.g.horizontal_displacement, self.g.vertical_displacement])\n",
    "            horizonal_displacement = (self.g.horizontal_displacement / max_displacement \n",
    "                                      / self.g.num_horizontal_displacements)\n",
    "            vertical_displacement = (self.g.vertical_displacement / max_displacement \n",
    "                                     / self.g.num_vertical_displacements)\n",
    "\n",
    "            translations = np.array([horizonal_displacement, vertical_displacement])\n",
    "\n",
    "        elif self.partition_type == \"by_patch\": \n",
    "\n",
    "            # Create the patch_coords\n",
    "            for row in range(self.num_patches_per_dim):\n",
    "                for col in range(self.num_patches_per_dim):\n",
    "                    center_x = (col + 0.5) * self.patch_side_length\n",
    "                    center_y = (row + 0.5) * self.patch_side_length\n",
    "                    patch_coords.append([center_x, center_y])\n",
    "            patch_coords = np.array(patch_coords)\n",
    "\n",
    "            # Assign each vertex to the corresponding patch\n",
    "            for v_num, (x, y) in enumerate(self.g.V_coords):\n",
    "                patch_col = np.floor(x / self.patch_side_length).astype(int)\n",
    "                patch_row = np.floor(y / self.patch_side_length).astype(int)\n",
    "                patch_num = patch_row * self.num_patches_per_dim + patch_col\n",
    "                V_to_super_V[v_num] = {\"patch_num\": patch_num, \n",
    "                                       \"patch_indices\": np.array([patch_col, patch_row])}\n",
    "                super_V_to_V[patch_num].append(v_num)\n",
    "                \n",
    "            # Create super_V_coords\n",
    "            super_V_coords = []\n",
    "            for patch_num in range(self.num_patches):\n",
    "                if self.g.V_coords[super_V_to_V[patch_num]].size == 0:\n",
    "                    super_V_coords.append(None)\n",
    "                else:\n",
    "                    super_V_coords.append(np.mean(self.g.V_coords[super_V_to_V[patch_num]], axis=0))\n",
    "            # super_V_coords = np.array(super_V_coords)  \n",
    "\n",
    "            self.super_V_to_V = super_V_to_V      \n",
    "\n",
    "            translations = np.array([self.patch_side_length, self.patch_side_length])\n",
    "\n",
    "        return super_V_coords, patch_coords, V_to_super_V, translations\n",
    "    \n",
    "    def construct_E_data(self):\n",
    "\n",
    "        E_data = {}\n",
    "\n",
    "        if self.partition_type == \"by_tile\":\n",
    "\n",
    "            for v, w in zip(*self.g.wadjacency_matrix.nonzero()):\n",
    "                E_data[v, w] = {\"l_vw\": self.g.wadjacency_matrix[v, w]}\n",
    "\n",
    "                if (v, w) in self.g.periodic_edges or (w, v) in self.g.periodic_edges:\n",
    "                    a, b = (v % self.g.num_Vs_for_tile), (w % self.g.num_Vs_for_tile) \n",
    "\n",
    "                    if (a, b) in self.g.connectivity_map: \n",
    "                        r_ij = np.array(self.g.directions[self.g.connectivity_map[a, b][0]['direction']])\n",
    "                    else: \n",
    "                        r_ij = -np.array(self.g.directions[self.g.connectivity_map[b, a][0]['direction']])\n",
    "                    r_ij = r_ij * self.translations\n",
    "                else:\n",
    "                    i, j = self.V_to_super_V[v][\"patch_num\"], self.V_to_super_V[w][\"patch_num\"]\n",
    "                    r_ij = self.super_V_coords[j] - self.super_V_coords[i]\n",
    "\n",
    "                E_data[v, w][\"r_ij\"] = r_ij\n",
    "\n",
    "        elif self.partition_type == \"by_patch\":\n",
    "\n",
    "            for v, w in zip(*self.g.wadjacency_matrix.nonzero()):\n",
    "                E_data[v, w] = {\"l_vw\": self.g.wadjacency_matrix[v, w]}\n",
    "\n",
    "                if (v, w) in self.g.periodic_edges or (w, v) in self.g.periodic_edges: \n",
    "\n",
    "                    i_index = self.V_to_super_V[v][\"patch_indices\"].copy()\n",
    "                    j_index = self.V_to_super_V[w][\"patch_indices\"].copy()\n",
    "                    ji_ind_dif = j_index - i_index\n",
    "                    patch_i_coords = self.super_V_coords[self.V_to_super_V[v][\"patch_num\"]].copy()\n",
    "                    patch_j_coords = self.super_V_coords[self.V_to_super_V[w][\"patch_num\"]].copy()\n",
    "\n",
    "                    if ji_ind_dif[0] == self.num_patches_per_dim - 1:\n",
    "                        patch_j_coords[0] -= 1\n",
    "                    elif ji_ind_dif[0] == -(self.num_patches_per_dim - 1):\n",
    "                        patch_j_coords[0] += 1\n",
    "                    if ji_ind_dif[1] == self.num_patches_per_dim - 1:\n",
    "                        patch_j_coords[1] -= 1\n",
    "                    elif ji_ind_dif[1] == -(self.num_patches_per_dim - 1):\n",
    "                        patch_j_coords[1] += 1\n",
    "\n",
    "                    r_ij = patch_j_coords - patch_i_coords\n",
    "\n",
    "                else:\n",
    "                    i_num, j_num = self.V_to_super_V[v][\"patch_num\"], self.V_to_super_V[w][\"patch_num\"]\n",
    "                    r_ij = self.super_V_coords[j_num] - self.super_V_coords[i_num]\n",
    "\n",
    "                E_data[v, w][\"r_ij\"] = r_ij\n",
    "\n",
    "        return E_data\n",
    "    \n",
    "    def plot_patching(self, figsize=10, linewidth=2,\n",
    "                      return_figax=False, plot_V_nums=False):\n",
    "        \n",
    "        if self.partition_type == \"by_tile\":\n",
    "            raise ValueError(\"Plotting for partitioning by tile not yet implemented\")\n",
    "\n",
    "        fig, ax = self.g.plot_graph(return_figax=True, figsize=figsize, linewidth=linewidth)\n",
    "        for center in self.patch_coords:\n",
    "            bottom_corner = (center[0] - self.patch_side_length / 2, center[1] - self.patch_side_length / 2)\n",
    "            square = matplotlib.patches.Rectangle(bottom_corner, self.patch_side_length, self.patch_side_length,\n",
    "                                                  linewidth=2 * linewidth, \n",
    "                                                  edgecolor='r', facecolor=(0.8, 0.8, 0.8, 0.1), alpha=1)\n",
    "            ax.add_patch(square)\n",
    "        ax.set_xlim(-0.1, 1.1)\n",
    "        ax.set_ylim(-0.1, 1.1)\n",
    "\n",
    "        if plot_V_nums:\n",
    "            for v_num, v_coord in enumerate(self.g.V_coords):\n",
    "                ax.annotate(str(v_num), v_coord, fontsize=20)\n",
    "\n",
    "        if return_figax:\n",
    "            return fig, ax\n",
    "        plt.show()"
   ]
  },
  {
   "cell_type": "markdown",
   "metadata": {},
   "source": [
    "### Calculations for patching of aperiodic"
   ]
  },
  {
   "cell_type": "code",
   "execution_count": 4,
   "metadata": {},
   "outputs": [],
   "source": [
    "N = 1\n",
    "num_Vs_for_tile = 10000\n",
    "np.random.seed(0)\n",
    "g = construct_graph.tiling.Tiling(tile_type=\"uniformly_random_Delaunay_triangulated\", \n",
    "                                  num_Vs_for_tile=num_Vs_for_tile,\n",
    "                                  num_horizontal_displacements=N, \n",
    "                                  num_vertical_displacements=N,\n",
    "                                  autoplot=False, figsize=5)\n",
    "# fig, ax = g.plot_graph(figsize=4, linewidth=1, capstyle=False, return_figax=True)\n",
    "# for v_num, v_coord in enumerate(g.V_coords):\n",
    "#     ax.annotate(str(v_num), v_coord, fontsize=15)"
   ]
  },
  {
   "cell_type": "code",
   "execution_count": 5,
   "metadata": {},
   "outputs": [
    {
     "name": "stdout",
     "output_type": "stream",
     "text": [
      "3\n",
      "4\n",
      "5\n",
      "6\n",
      "7\n",
      "8\n",
      "9\n",
      "10\n",
      "11\n",
      "12\n",
      "13\n",
      "14\n",
      "15\n",
      "16\n",
      "17\n",
      "18\n",
      "19\n",
      "20\n",
      "21\n",
      "22\n",
      "23\n",
      "24\n",
      "25\n",
      "26\n",
      "27\n",
      "28\n",
      "29\n",
      "30\n",
      "31\n",
      "32\n",
      "33\n",
      "34\n",
      "35\n",
      "36\n",
      "37\n",
      "38\n",
      "39\n"
     ]
    }
   ],
   "source": [
    "traces = []\n",
    "for num_patches_per_dim in range(3, 40):\n",
    "    print(num_patches_per_dim)\n",
    "    R = Renormalization(g, partition_type=\"by_patch\", num_patches_per_dim=num_patches_per_dim, autoplot=False)\n",
    "    Q, T = R()\n",
    "    Qs = []\n",
    "    for i, j in zip(Q, T):\n",
    "        if np.abs(j) > 1e-13:\n",
    "            Qs.append(i / j)\n",
    "    meanQs = np.mean(Qs, axis=0)\n",
    "    traces.append(np.trace(meanQs)**0.5)"
   ]
  },
  {
   "cell_type": "code",
   "execution_count": 18,
   "metadata": {},
   "outputs": [],
   "source": [
    "mean_num_Vs_per_patch = g.num_Vs / np.arange(3, 40)**2"
   ]
  },
  {
   "cell_type": "code",
   "execution_count": 19,
   "metadata": {},
   "outputs": [
    {
     "data": {
      "text/plain": [
       "[<matplotlib.lines.Line2D at 0x16aef0f10>]"
      ]
     },
     "execution_count": 19,
     "metadata": {},
     "output_type": "execute_result"
    },
    {
     "data": {
      "image/png": "[encoded data removed]",
      "text/plain": [
       "<Figure size 640x480 with 1 Axes>"
      ]
     },
     "metadata": {},
     "output_type": "display_data"
    }
   ],
   "source": [
    "plt.loglog(mean_num_Vs_per_patch, traces, 'o-')\n",
    "# plt.ylim(0.5, 2)\n",
    "# plt.plot([1e-4, 1e0], [0.96, 0.96])"
   ]
  },
  {
   "cell_type": "code",
   "execution_count": null,
   "metadata": {},
   "outputs": [],
   "source": []
  },
  {
   "cell_type": "code",
   "execution_count": 229,
   "metadata": {},
   "outputs": [],
   "source": [
    "all_Qs = []\n",
    "for patch_num in range(num_patches_per_dim**2):\n",
    "    patch_V_coords = g.V_coords[R.super_V_to_V[patch_num]]\n",
    "    mini_g = construct_graph.tiling.Tiling(tile_type=\"uniformly_random_Delaunay_triangulated\", \n",
    "                                           tile_V_coords=patch_V_coords,\n",
    "                                           num_horizontal_displacements=1, \n",
    "                                           num_vertical_displacements=1,\n",
    "                                           autoplot=False, figsize=5)\n",
    "    mini_R = Renormalization(mini_g, partition_type=\"by_tile\", autoplot=False)\n",
    "    Q, T = mini_R()\n",
    "    all_Qs.append([i / j for i, j in zip(Q, T)][0])"
   ]
  },
  {
   "cell_type": "code",
   "execution_count": 230,
   "metadata": {},
   "outputs": [
    {
     "data": {
      "text/plain": [
       "0.9769480148534898"
      ]
     },
     "execution_count": 230,
     "metadata": {},
     "output_type": "execute_result"
    }
   ],
   "source": [
    "np.trace(np.mean(all_Qs, axis=0))"
   ]
  },
  {
   "cell_type": "code",
   "execution_count": 233,
   "metadata": {},
   "outputs": [
    {
     "name": "stdout",
     "output_type": "stream",
     "text": [
      "3\n",
      "4\n",
      "5\n",
      "6\n",
      "7\n",
      "8\n",
      "9\n",
      "10\n",
      "11\n",
      "12\n",
      "13\n",
      "14\n",
      "15\n",
      "16\n",
      "17\n",
      "18\n",
      "19\n",
      "20\n",
      "21\n",
      "22\n",
      "23\n",
      "24\n",
      "25\n",
      "26\n",
      "27\n",
      "28\n",
      "29\n",
      "30\n",
      "31\n",
      "32\n",
      "33\n",
      "34\n"
     ]
    },
    {
     "name": "stderr",
     "output_type": "stream",
     "text": [
      "/Users/sidneyholden/miniconda3/lib/python3.10/site-packages/numpy/core/fromnumeric.py:3504: RuntimeWarning: Mean of empty slice.\n",
      "  return _methods._mean(a, axis=axis, dtype=dtype,\n",
      "/Users/sidneyholden/miniconda3/lib/python3.10/site-packages/numpy/core/_methods.py:121: RuntimeWarning: invalid value encountered in divide\n",
      "  ret = um.true_divide(\n"
     ]
    },
    {
     "ename": "ValueError",
     "evalue": "No points given",
     "output_type": "error",
     "traceback": [
      "\u001b[0;31m---------------------------------------------------------------------------\u001b[0m",
      "\u001b[0;31mValueError\u001b[0m                                Traceback (most recent call last)",
      "Cell \u001b[0;32mIn[233], line 8\u001b[0m\n\u001b[1;32m      6\u001b[0m \u001b[38;5;28;01mfor\u001b[39;00m patch_num \u001b[38;5;129;01min\u001b[39;00m \u001b[38;5;28mrange\u001b[39m(num_patches_per_dim\u001b[38;5;241m*\u001b[39m\u001b[38;5;241m*\u001b[39m\u001b[38;5;241m2\u001b[39m):\n\u001b[1;32m      7\u001b[0m     patch_V_coords \u001b[38;5;241m=\u001b[39m g\u001b[38;5;241m.\u001b[39mV_coords[R\u001b[38;5;241m.\u001b[39msuper_V_to_V[patch_num]]\n\u001b[0;32m----> 8\u001b[0m     mini_g \u001b[38;5;241m=\u001b[39m \u001b[43mconstruct_graph\u001b[49m\u001b[38;5;241;43m.\u001b[39;49m\u001b[43mtiling\u001b[49m\u001b[38;5;241;43m.\u001b[39;49m\u001b[43mTiling\u001b[49m\u001b[43m(\u001b[49m\u001b[43mtile_type\u001b[49m\u001b[38;5;241;43m=\u001b[39;49m\u001b[38;5;124;43m\"\u001b[39;49m\u001b[38;5;124;43muniformly_random_Delaunay_triangulated\u001b[39;49m\u001b[38;5;124;43m\"\u001b[39;49m\u001b[43m,\u001b[49m\u001b[43m \u001b[49m\n\u001b[1;32m      9\u001b[0m \u001b[43m                                        \u001b[49m\u001b[43mtile_V_coords\u001b[49m\u001b[38;5;241;43m=\u001b[39;49m\u001b[43mpatch_V_coords\u001b[49m\u001b[43m,\u001b[49m\n\u001b[1;32m     10\u001b[0m \u001b[43m                                        \u001b[49m\u001b[43mnum_horizontal_displacements\u001b[49m\u001b[38;5;241;43m=\u001b[39;49m\u001b[38;5;241;43m1\u001b[39;49m\u001b[43m,\u001b[49m\u001b[43m \u001b[49m\n\u001b[1;32m     11\u001b[0m \u001b[43m                                        \u001b[49m\u001b[43mnum_vertical_displacements\u001b[49m\u001b[38;5;241;43m=\u001b[39;49m\u001b[38;5;241;43m1\u001b[39;49m\u001b[43m,\u001b[49m\n\u001b[1;32m     12\u001b[0m \u001b[43m                                        \u001b[49m\u001b[43mautoplot\u001b[49m\u001b[38;5;241;43m=\u001b[39;49m\u001b[38;5;28;43;01mFalse\u001b[39;49;00m\u001b[43m,\u001b[49m\u001b[43m \u001b[49m\u001b[43mfigsize\u001b[49m\u001b[38;5;241;43m=\u001b[39;49m\u001b[38;5;241;43m5\u001b[39;49m\u001b[43m)\u001b[49m\n\u001b[1;32m     13\u001b[0m     mini_R \u001b[38;5;241m=\u001b[39m Renormalization(mini_g, partition_type\u001b[38;5;241m=\u001b[39m\u001b[38;5;124m\"\u001b[39m\u001b[38;5;124mby_tile\u001b[39m\u001b[38;5;124m\"\u001b[39m, autoplot\u001b[38;5;241m=\u001b[39m\u001b[38;5;28;01mFalse\u001b[39;00m)\n\u001b[1;32m     14\u001b[0m     Q, T \u001b[38;5;241m=\u001b[39m mini_R()\n",
      "File \u001b[0;32m~/repos/metric_graph/test_scripts/../construct_graph/tiling.py:28\u001b[0m, in \u001b[0;36mTiling.__init__\u001b[0;34m(self, tile_type, periodic, rescale, autoplot, figsize, embedding_space, **init_kwargs)\u001b[0m\n\u001b[1;32m     22\u001b[0m \u001b[38;5;28mself\u001b[39m\u001b[38;5;241m.\u001b[39mnum_vertical_displacements \u001b[38;5;241m=\u001b[39m \u001b[38;5;28mself\u001b[39m\u001b[38;5;241m.\u001b[39minit_kwargs\u001b[38;5;241m.\u001b[39mget(\u001b[38;5;124m'\u001b[39m\u001b[38;5;124mnum_vertical_displacements\u001b[39m\u001b[38;5;124m'\u001b[39m, \u001b[38;5;241m1\u001b[39m)\n\u001b[1;32m     23\u001b[0m \u001b[38;5;28mself\u001b[39m\u001b[38;5;241m.\u001b[39mdirections \u001b[38;5;241m=\u001b[39m {\u001b[38;5;124m'\u001b[39m\u001b[38;5;124mright\u001b[39m\u001b[38;5;124m'\u001b[39m: (\u001b[38;5;241m1\u001b[39m, \u001b[38;5;241m0\u001b[39m), \u001b[38;5;124m'\u001b[39m\u001b[38;5;124mupper_right\u001b[39m\u001b[38;5;124m'\u001b[39m: (\u001b[38;5;241m1\u001b[39m, \u001b[38;5;241m1\u001b[39m), \u001b[38;5;124m'\u001b[39m\u001b[38;5;124mup\u001b[39m\u001b[38;5;124m'\u001b[39m: (\u001b[38;5;241m0\u001b[39m, \u001b[38;5;241m1\u001b[39m), \u001b[38;5;124m'\u001b[39m\u001b[38;5;124mupper_left\u001b[39m\u001b[38;5;124m'\u001b[39m: (\u001b[38;5;241m-\u001b[39m\u001b[38;5;241m1\u001b[39m, \u001b[38;5;241m1\u001b[39m), \n\u001b[1;32m     24\u001b[0m                    \u001b[38;5;124m'\u001b[39m\u001b[38;5;124mleft\u001b[39m\u001b[38;5;124m'\u001b[39m: (\u001b[38;5;241m-\u001b[39m\u001b[38;5;241m1\u001b[39m, \u001b[38;5;241m0\u001b[39m), \u001b[38;5;124m'\u001b[39m\u001b[38;5;124mlower_left\u001b[39m\u001b[38;5;124m'\u001b[39m: (\u001b[38;5;241m-\u001b[39m\u001b[38;5;241m1\u001b[39m, \u001b[38;5;241m-\u001b[39m\u001b[38;5;241m1\u001b[39m), \u001b[38;5;124m'\u001b[39m\u001b[38;5;124mdown\u001b[39m\u001b[38;5;124m'\u001b[39m: (\u001b[38;5;241m0\u001b[39m, \u001b[38;5;241m-\u001b[39m\u001b[38;5;241m1\u001b[39m), \u001b[38;5;124m'\u001b[39m\u001b[38;5;124mlower_right\u001b[39m\u001b[38;5;124m'\u001b[39m: (\u001b[38;5;241m1\u001b[39m, \u001b[38;5;241m-\u001b[39m\u001b[38;5;241m1\u001b[39m)}\n\u001b[1;32m     26\u001b[0m (tile_V_coords, \n\u001b[1;32m     27\u001b[0m  tile_wadjacency_matrix, \n\u001b[0;32m---> 28\u001b[0m  connectivity_map) \u001b[38;5;241m=\u001b[39m \u001b[38;5;28;43meval\u001b[39;49m\u001b[43m(\u001b[49m\u001b[38;5;124;43mf\u001b[39;49m\u001b[38;5;124;43m\"\u001b[39;49m\u001b[38;5;124;43mself.construct_\u001b[39;49m\u001b[38;5;132;43;01m{\u001b[39;49;00m\u001b[38;5;28;43mself\u001b[39;49m\u001b[38;5;241;43m.\u001b[39;49m\u001b[43mtile_type\u001b[49m\u001b[38;5;132;43;01m}\u001b[39;49;00m\u001b[38;5;124;43m_tile_data()\u001b[39;49m\u001b[38;5;124;43m\"\u001b[39;49m\u001b[43m)\u001b[49m\n\u001b[1;32m     30\u001b[0m \u001b[38;5;28mself\u001b[39m\u001b[38;5;241m.\u001b[39mtile_V_coords \u001b[38;5;241m=\u001b[39m tile_V_coords\n\u001b[1;32m     31\u001b[0m \u001b[38;5;28mself\u001b[39m\u001b[38;5;241m.\u001b[39mnum_Vs_for_tile \u001b[38;5;241m=\u001b[39m \u001b[38;5;28mself\u001b[39m\u001b[38;5;241m.\u001b[39mtile_V_coords\u001b[38;5;241m.\u001b[39mshape[\u001b[38;5;241m0\u001b[39m]\n",
      "File \u001b[0;32m<string>:1\u001b[0m\n",
      "File \u001b[0;32m~/repos/metric_graph/test_scripts/../construct_graph/tiling.py:351\u001b[0m, in \u001b[0;36mTiling.construct_uniformly_random_Delaunay_triangulated_tile_data\u001b[0;34m(self)\u001b[0m\n\u001b[1;32m    349\u001b[0m \u001b[38;5;66;03m# Construct Delaunay triangulation with translated V_coords in every direction\u001b[39;00m\n\u001b[1;32m    350\u001b[0m extended_tile_V_coords \u001b[38;5;241m=\u001b[39m np\u001b[38;5;241m.\u001b[39mvstack(([tile_V_coords] \u001b[38;5;241m+\u001b[39m [tile_V_coords \u001b[38;5;241m+\u001b[39m np\u001b[38;5;241m.\u001b[39marray(i) \u001b[38;5;28;01mfor\u001b[39;00m i \u001b[38;5;129;01min\u001b[39;00m \u001b[38;5;28mself\u001b[39m\u001b[38;5;241m.\u001b[39mdirections\u001b[38;5;241m.\u001b[39mvalues()])) \n\u001b[0;32m--> 351\u001b[0m delaunay_triangulation \u001b[38;5;241m=\u001b[39m \u001b[43mscipy\u001b[49m\u001b[38;5;241;43m.\u001b[39;49m\u001b[43mspatial\u001b[49m\u001b[38;5;241;43m.\u001b[39;49m\u001b[43mDelaunay\u001b[49m\u001b[43m(\u001b[49m\u001b[43mextended_tile_V_coords\u001b[49m\u001b[43m)\u001b[49m\n\u001b[1;32m    352\u001b[0m tile_wadjacency_matrix \u001b[38;5;241m=\u001b[39m scipy\u001b[38;5;241m.\u001b[39msparse\u001b[38;5;241m.\u001b[39mlil_matrix((num_Vs_for_tile, num_Vs_for_tile), dtype\u001b[38;5;241m=\u001b[39mnp\u001b[38;5;241m.\u001b[39mfloat64)    \n\u001b[1;32m    353\u001b[0m v, w \u001b[38;5;241m=\u001b[39m delaunay_triangulation\u001b[38;5;241m.\u001b[39mvertex_neighbor_vertices \n",
      "File \u001b[0;32m_qhull.pyx:1827\u001b[0m, in \u001b[0;36mscipy.spatial._qhull.Delaunay.__init__\u001b[0;34m()\u001b[0m\n",
      "File \u001b[0;32m_qhull.pyx:277\u001b[0m, in \u001b[0;36mscipy.spatial._qhull._Qhull.__init__\u001b[0;34m()\u001b[0m\n",
      "\u001b[0;31mValueError\u001b[0m: No points given"
     ]
    }
   ],
   "source": [
    "trQ_for_num_patches = []\n",
    "for num_patches_per_dim in range(3, 40):\n",
    "    print(num_patches_per_dim)\n",
    "    R = Renormalization(g, partition_type=\"by_patch\", num_patches_per_dim=num_patches_per_dim, autoplot=False)\n",
    "    all_Qs = []\n",
    "    for patch_num in range(num_patches_per_dim**2):\n",
    "        patch_V_coords = g.V_coords[R.super_V_to_V[patch_num]]\n",
    "        mini_g = construct_graph.tiling.Tiling(tile_type=\"uniformly_random_Delaunay_triangulated\", \n",
    "                                            tile_V_coords=patch_V_coords,\n",
    "                                            num_horizontal_displacements=1, \n",
    "                                            num_vertical_displacements=1,\n",
    "                                            autoplot=False, figsize=5)\n",
    "        mini_R = Renormalization(mini_g, partition_type=\"by_tile\", autoplot=False)\n",
    "        Q, T = mini_R()\n",
    "        all_Qs.append([i / j for i, j in zip(Q, T)][0])\n",
    "    trQ_for_num_patches.append(np.trace(np.mean(all_Qs, axis=0)))"
   ]
  },
  {
   "cell_type": "code",
   "execution_count": 235,
   "metadata": {},
   "outputs": [
    {
     "data": {
      "text/plain": [
       "[<matplotlib.lines.Line2D at 0x28260f130>]"
      ]
     },
     "execution_count": 235,
     "metadata": {},
     "output_type": "execute_result"
    },
    {
     "data": {
      "image/png": "[encoded data removed]",
      "text/plain": [
       "<Figure size 640x480 with 1 Axes>"
      ]
     },
     "metadata": {},
     "output_type": "display_data"
    }
   ],
   "source": [
    "plt.plot(trQ_for_num_patches)"
   ]
  },
  {
   "cell_type": "code",
   "execution_count": 237,
   "metadata": {},
   "outputs": [
    {
     "data": {
      "text/plain": [
       "0.48570226039551584"
      ]
     },
     "execution_count": 237,
     "metadata": {},
     "output_type": "execute_result"
    }
   ],
   "source": [
    "(1+np.sqrt(2))**2 / 12"
   ]
  },
  {
   "cell_type": "code",
   "execution_count": 239,
   "metadata": {},
   "outputs": [
    {
     "data": {
      "text/plain": [
       "0.9273689999999999"
      ]
     },
     "execution_count": 239,
     "metadata": {},
     "output_type": "execute_result"
    }
   ],
   "source": [
    "0.963**2"
   ]
  },
  {
   "cell_type": "code",
   "execution_count": 241,
   "metadata": {},
   "outputs": [
    {
     "data": {
      "text/plain": [
       "0.9628083921528727"
      ]
     },
     "execution_count": 241,
     "metadata": {},
     "output_type": "execute_result"
    }
   ],
   "source": [
    "np.sqrt(0.927)"
   ]
  },
  {
   "cell_type": "code",
   "execution_count": null,
   "metadata": {},
   "outputs": [],
   "source": []
  },
  {
   "cell_type": "code",
   "execution_count": null,
   "metadata": {},
   "outputs": [],
   "source": []
  },
  {
   "cell_type": "code",
   "execution_count": null,
   "metadata": {},
   "outputs": [],
   "source": []
  },
  {
   "cell_type": "code",
   "execution_count": 193,
   "metadata": {},
   "outputs": [],
   "source": [
    "guesses = np.linspace(3.5, 5, 200)\n",
    "eigs = solve_laplace_operator.solve_laplace_operator.Eigenvalue_Calculator(g)\n",
    "ks = eigs(guesses, printerval=np.inf, max_steps=1000, tol=1e-12, solve_type=\"SVD iterate\")\n",
    "_, index = np.unique(np.round(ks, 6), return_index=True)\n",
    "eigenvalues = ks[index]"
   ]
  },
  {
   "cell_type": "code",
   "execution_count": 199,
   "metadata": {},
   "outputs": [
    {
     "data": {
      "text/plain": [
       "0.9577941704057094"
      ]
     },
     "execution_count": 199,
     "metadata": {},
     "output_type": "execute_result"
    }
   ],
   "source": [
    "np.mean(eigenvalues / calculate_pde_eigenvalues(1, 0))"
   ]
  },
  {
   "cell_type": "code",
   "execution_count": 242,
   "metadata": {},
   "outputs": [],
   "source": [
    "def calculate_pde_eigenvalues(m, n):\n",
    "    a = 0.93 / 2\n",
    "    return np.sqrt(((2 * np.pi * m)**2 + (2 * np.pi * n)**2) * a)"
   ]
  },
  {
   "cell_type": "code",
   "execution_count": 243,
   "metadata": {},
   "outputs": [
    {
     "data": {
      "text/plain": [
       "4.2845611427573544"
      ]
     },
     "execution_count": 243,
     "metadata": {},
     "output_type": "execute_result"
    }
   ],
   "source": [
    "calculate_pde_eigenvalues(1, 0)"
   ]
  },
  {
   "cell_type": "code",
   "execution_count": 247,
   "metadata": {},
   "outputs": [
    {
     "data": {
      "text/plain": [
       "0.9931862882051221"
      ]
     },
     "execution_count": 247,
     "metadata": {},
     "output_type": "execute_result"
    }
   ],
   "source": [
    "np.mean(eigenvalues) / calculate_pde_eigenvalues(1, 0)"
   ]
  },
  {
   "cell_type": "code",
   "execution_count": null,
   "metadata": {},
   "outputs": [],
   "source": [
    "If 0.93/2 * (k_{continuum})**2 = k_{graph}**2\n",
    "sqrt(0.93 / 2) * k_{continuum} = k_{graph}"
   ]
  },
  {
   "cell_type": "code",
   "execution_count": 246,
   "metadata": {},
   "outputs": [
    {
     "data": {
      "text/plain": [
       "0.6819090848492928"
      ]
     },
     "execution_count": 246,
     "metadata": {},
     "output_type": "execute_result"
    }
   ],
   "source": [
    "np.sqrt(0.93 / 2)"
   ]
  },
  {
   "cell_type": "code",
   "execution_count": null,
   "metadata": {},
   "outputs": [],
   "source": []
  },
  {
   "cell_type": "code",
   "execution_count": null,
   "metadata": {},
   "outputs": [],
   "source": []
  },
  {
   "cell_type": "markdown",
   "metadata": {},
   "source": [
    "### Confirmation for arbitrary patch"
   ]
  },
  {
   "cell_type": "code",
   "execution_count": 135,
   "metadata": {},
   "outputs": [],
   "source": [
    "N = 5\n",
    "num_Vs_for_tile = 40\n",
    "np.random.seed(0)\n",
    "g = construct_graph.tiling.Tiling(tile_type=\"uniformly_random_Delaunay_triangulated\", \n",
    "                                  num_Vs_for_tile=num_Vs_for_tile,\n",
    "                                  num_horizontal_displacements=N, \n",
    "                                  num_vertical_displacements=N,\n",
    "                                  autoplot=False, figsize=5)\n",
    "# fig, ax = g.plot_graph(figsize=7, linewidth=1, capstyle=False, return_figax=True)\n",
    "# for v_num, v_coord in enumerate(g.V_coords):\n",
    "#     ax.annotate(str(v_num), v_coord, fontsize=15)"
   ]
  },
  {
   "cell_type": "code",
   "execution_count": 154,
   "metadata": {},
   "outputs": [],
   "source": [
    "R = Renormalization(g, partition_type=\"by_tile\", autoplot=False)\n",
    "Q, T = R()\n",
    "QQ = [i / j for i, j in zip(Q, T)]"
   ]
  },
  {
   "cell_type": "code",
   "execution_count": 148,
   "metadata": {},
   "outputs": [],
   "source": [
    "guesses = np.linspace(3.5, 5, 50)\n",
    "eigs = solve_laplace_operator.solve_laplace_operator.Eigenvalue_Calculator(g)\n",
    "ks = eigs(guesses, printerval=np.inf, max_steps=1000, tol=1e-12, solve_type=\"SVD iterate\")\n",
    "_, index = np.unique(np.round(ks, 6), return_index=True)\n",
    "eigenvalues = ks[index]"
   ]
  },
  {
   "cell_type": "code",
   "execution_count": 149,
   "metadata": {},
   "outputs": [],
   "source": [
    "facs = np.array([QQ[0][0, 0], QQ[0][1, 1]])\n",
    "def calculate_pde_eigenvalues(m, n):\n",
    "    a = 2 / 2 \n",
    "    return np.sqrt(((2 * np.pi * m)**2 + (2 * np.pi * n)**2) * facs)"
   ]
  },
  {
   "cell_type": "code",
   "execution_count": 150,
   "metadata": {},
   "outputs": [
    {
     "data": {
      "text/plain": [
       "array([4.21589221, 4.30767547])"
      ]
     },
     "execution_count": 150,
     "metadata": {},
     "output_type": "execute_result"
    }
   ],
   "source": [
    "print(eigenvalues / calculate_pde_eigenvalues(1, 0))"
   ]
  },
  {
   "cell_type": "code",
   "execution_count": null,
   "metadata": {},
   "outputs": [],
   "source": []
  },
  {
   "cell_type": "code",
   "execution_count": null,
   "metadata": {},
   "outputs": [],
   "source": []
  },
  {
   "cell_type": "code",
   "execution_count": null,
   "metadata": {},
   "outputs": [],
   "source": []
  },
  {
   "cell_type": "code",
   "execution_count": null,
   "metadata": {},
   "outputs": [],
   "source": []
  },
  {
   "cell_type": "code",
   "execution_count": null,
   "metadata": {},
   "outputs": [],
   "source": []
  },
  {
   "cell_type": "code",
   "execution_count": null,
   "metadata": {},
   "outputs": [],
   "source": []
  },
  {
   "cell_type": "code",
   "execution_count": null,
   "metadata": {},
   "outputs": [],
   "source": [
    "class Laplace_Operator_Graph_Renormalization:\n",
    "\n",
    "    def __init__(self, g, partition_type=\"tile\", **kwargs):\n",
    "\n",
    "        self.g = g\n",
    "        self.partition_type = partition_type\n",
    "        self.kwargs = kwargs\n",
    "        self.super_V_coords, self.V_to_super_V, self.translations = self.partition_graph()\n",
    "        self.E_data = self.construct_E_data()\n",
    "\n",
    "    def partition_graph(self):\n",
    "        \"\"\"Partition graph based into subgraphs and return graph \"super\" graph consisting\n",
    "        of vertices corresponding to subgraphs, connected if any of the corresponding \n",
    "        sub-vertices are. Partitions by type:\n",
    "        :\n",
    "            - \"by_tile\": uses tiling construction from Tiling class. Partitions\n",
    "                        vertex set just by vertex indices\n",
    "\n",
    "            - \"by_geometric_patch\": subdivides square into smaller square patches\n",
    "                                    and partitions vertex set into those falling\n",
    "                                    in each patch\n",
    "\n",
    "        Returns super_V_coords: coords of vertex clumps, \n",
    "                V_to_super_V: maps graph V_coords to super graph super_V_coords\n",
    "        \"\"\"\n",
    "        if self.partition_type == \"tile\":\n",
    "            # Create patch coordinates, map from vertices to patches, \n",
    "            # and map from tile number to tile index (just for this function) \n",
    "            super_V_coords = []\n",
    "            V_to_super_V = {}\n",
    "            tile_index_to_tile_num = {}\n",
    "\n",
    "            tile_num = -1 #g.num_horizontal_displacements * g.num_vertical_displacements\n",
    "            for j in range(self.g.num_vertical_displacements):\n",
    "                for i in range(self.g.num_horizontal_displacements):\n",
    "                    tile_num += 1\n",
    "                    v_indices = np.arange(tile_num * self.g.num_Vs_for_tile, (tile_num + 1) * self.g.num_Vs_for_tile)\n",
    "                    tile = self.g.V_coords[v_indices]\n",
    "                    super_V_coords.append(np.mean(tile, axis=0))\n",
    "                    for v_index in v_indices:\n",
    "                        V_to_super_V[v_index] = {\"tile_num\": tile_num, \"tile_index\": np.array([i, j])}\n",
    "\n",
    "                    tile_index_to_tile_num[i, j] = tile_num\n",
    "\n",
    "            # Calculate x, y translations by looking at displacements between tiles\n",
    "            if self.g.num_horizontal_displacements < 2: \n",
    "                if self.g.horizontal_displacement < self.g.vertical_displacement:\n",
    "                    x_translation = self.g.horizontal_displacement / self.g.vertical_displacement\n",
    "                else:\n",
    "                    x_translation = 1\n",
    "            else: \n",
    "                x_translation = (super_V_coords[tile_index_to_tile_num[1, 0]] - super_V_coords[tile_index_to_tile_num[0, 0]])[0]\n",
    "            if self.g.num_vertical_displacements < 2: \n",
    "                if self.g.vertical_displacement < self.g.horizontal_displacement:\n",
    "                    y_translation = self.g.vertical_displacement / self.g.horizontal_displacement\n",
    "                else:\n",
    "                    y_translation = 1 \n",
    "            else: \n",
    "                y_translation = (super_V_coords[tile_index_to_tile_num[0, 1]] - super_V_coords[tile_index_to_tile_num[0, 0]])[1]\n",
    "\n",
    "        elif self.partition_type == \"geometric_patch\":\n",
    "            super_V_coords = []\n",
    "            V_to_super_V = {}\n",
    "            tile_index_to_tile_num = bidict.bidict()\n",
    "\n",
    "            # Determine the size of each patch\n",
    "            patch_size = 1.0 / self.kwargs[\"tiles_per_dim\"]\n",
    "\n",
    "            # Create the super_V_coords and tile_index_to_tile_num\n",
    "            for j in range(self.kwargs[\"tiles_per_dim\"]):\n",
    "                for i in range(self.kwargs[\"tiles_per_dim\"]):\n",
    "                    center_x = (i + 0.5) * patch_size\n",
    "                    center_y = (j + 0.5) * patch_size\n",
    "                    patch_index = j * self.kwargs[\"tiles_per_dim\"] + i\n",
    "                    super_V_coords.append([center_x, center_y])\n",
    "                    tile_index_to_tile_num[i, j] = patch_index\n",
    "\n",
    "            # Assign each vertex to the corresponding patch\n",
    "            for idx, (x, y) in enumerate(self.g.V_coords):\n",
    "                patch_i = np.floor(x / patch_size).astype(int)\n",
    "                patch_j = np.floor(y / patch_size).astype(int)\n",
    "                patch_index = patch_j * self.kwargs[\"tiles_per_dim\"] + patch_i\n",
    "                V_to_super_V[idx] = {\"tile_num\": patch_index, \"tile_index\": np.array(tile_index_to_tile_num.inv[patch_index])}\n",
    "\n",
    "            x_translation, y_translation = patch_size, patch_size\n",
    "\n",
    "        super_V_coords = np.array(super_V_coords)\n",
    "\n",
    "        translations = np.array([x_translation, y_translation])\n",
    "\n",
    "        return super_V_coords, V_to_super_V, translations\n",
    "\n",
    "    def construct_E_data(self):\n",
    "        \"\"\"Needs to take in super_V_coords, and construct new connectivity between them\n",
    "        based on connectivity of old graph. Then run through every edge in old graph\n",
    "        and construct data (r_ij, l_vw). \n",
    "        \"\"\"\n",
    "        E_data = {}\n",
    "\n",
    "        if self.partition_type == \"tile\":\n",
    "\n",
    "            for v, w in zip(*self.g.wadjacency_matrix.nonzero()):\n",
    "                E_data[v, w] = {\"l_vw\": self.g.wadjacency_matrix[v, w]}\n",
    "                \n",
    "                i, j = self.V_to_super_V[v][\"tile_num\"], self.V_to_super_V[w][\"tile_num\"]\n",
    "\n",
    "                if (v, w) in self.g.periodic_edges or (w, v) in self.g.periodic_edges: #hack for calculating r_ij assuming \n",
    "                                                                            #orthogonal patching with connections\n",
    "                                                                            #on checkerboard\n",
    "                    a, b = (v % np.shape(self.g.tile_V_coords)[0]), (w % np.shape(self.g.tile_V_coords)[0]) \n",
    "                    if (a, b) in self.g.connectivity_map: \n",
    "                        r_ij = np.array(self.g.directions[self.g.connectivity_map[a, b][0]['direction']])\n",
    "                    else: \n",
    "                        r_ij = -np.array(self.g.directions[self.g.connectivity_map[b, a][0]['direction']])\n",
    "                    r_ij = r_ij * self.translations\n",
    "                else:\n",
    "                        r_ij = self.super_V_coords[j] - self.super_V_coords[i]\n",
    "\n",
    "                E_data[v, w][\"r_ij\"] = r_ij\n",
    "\n",
    "        elif self.partition_type == \"geometric_patch\":\n",
    "\n",
    "            for v, w in zip(*self.g.wadjacency_matrix.nonzero()):\n",
    "                E_data[v, w] = {\"l_vw\": self.g.wadjacency_matrix[v, w]}\n",
    "\n",
    "                if (v, w) in self.g.periodic_edges or (w, v) in self.g.periodic_edges: #hack for calculating r_ij assuming \n",
    "                                                                                       #orthogonal patching with connections\n",
    "                                                                                       #on checkerboard\n",
    "                    i_index, j_index = self.V_to_super_V[v][\"tile_index\"].copy(), self.V_to_super_V[w][\"tile_index\"].copy()\n",
    "                    r_ij = j_index - i_index\n",
    "                    r_ij[r_ij == self.kwargs[\"tiles_per_dim\"] - 1] = -1\n",
    "                    r_ij[r_ij == -(self.kwargs[\"tiles_per_dim\"] - 1)] = 1\n",
    "                    r_ij = r_ij * self.translations\n",
    "                else:\n",
    "                    i_num, j_num = self.V_to_super_V[v][\"tile_num\"], self.V_to_super_V[w][\"tile_num\"]\n",
    "                    r_ij = self.super_V_coords[j_num] - self.super_V_coords[i_num]\n",
    "\n",
    "                E_data[v, w][\"r_ij\"] = r_ij\n",
    "\n",
    "        return E_data\n",
    "    \n",
    "    def solve_for_bilinear_coefficients(self):\n",
    "\n",
    "        C = scipy.sparse.lil_matrix((self.g.num_Vs + 1, self.g.num_Vs))\n",
    "        Dx = np.zeros(self.g.num_Vs + 1)\n",
    "        Dy = np.zeros(self.g.num_Vs + 1)\n",
    "        \n",
    "        for v, w in self.E_data:\n",
    "\n",
    "            l_vw, r_ij = self.E_data[v, w][\"l_vw\"], self.E_data[v, w][\"r_ij\"]\n",
    "\n",
    "            C[v, w] -= 1 / l_vw\n",
    "            C[v, v] += 1 / l_vw\n",
    "\n",
    "            Dx[v] += r_ij[0] / l_vw\n",
    "            Dy[v] += r_ij[1] / l_vw\n",
    "\n",
    "        C[-1] = np.ones(self.g.num_Vs)\n",
    "        C = scipy.sparse.csc_matrix(C)\n",
    "\n",
    "        alpha_x = scipy.sparse.linalg.lsqr(C, Dx)[0] \n",
    "        alpha_y = scipy.sparse.linalg.lsqr(C, Dy)[0]\n",
    "\n",
    "        return alpha_x, alpha_y\n",
    "    \n",
    "    def partial_solve_for_bilinear_coefficients(self, num_layers):\n",
    "\n",
    "        C = scipy.sparse.lil_matrix((self.g.num_Vs + 1, self.g.num_Vs))\n",
    "        Dx = np.zeros(self.g.num_Vs + 1)\n",
    "        Dy = np.zeros(self.g.num_Vs + 1)\n",
    "\n",
    "        if self.kwargs[\"tiles_per_dim\"] % 2 == 0:\n",
    "            raise ValueError(\"Must have odd number of patches per dimension.\")\n",
    "        M = np.floor(self.kwargs[\"tiles_per_dim\"] / 2).astype(int)\n",
    "        central_tile_index = np.array([M, M])\n",
    "        tiles = self.generate_anticlockwise_spiral(num_layers) + central_tile_index\n",
    "                \n",
    "        for v, w in self.E_data:\n",
    "\n",
    "            if self.V_to_super_V[v][\"tile_index\"] in tiles:\n",
    "                if self.V_to_super_V[w][\"tile_index\"] in tiles:\n",
    "                    keep_w = 1\n",
    "                else:\n",
    "                    keep_w = 0\n",
    "\n",
    "                l_vw, r_ij = self.E_data[v, w][\"l_vw\"], self.E_data[v, w][\"r_ij\"]\n",
    "\n",
    "                C[v, w] -= keep_w * (1 / l_vw)\n",
    "                C[v, v] += 1 / l_vw\n",
    "\n",
    "                Dx[v] += r_ij[0] / l_vw\n",
    "                Dy[v] += r_ij[1] / l_vw\n",
    "\n",
    "        C[-1] = np.ones(self.g.num_Vs)\n",
    "        C = scipy.sparse.csc_matrix(C)\n",
    "\n",
    "        Dx[-1] = 1\n",
    "        Dy[-1] = 1\n",
    "\n",
    "        alpha_x = self.solve_reduced_sparse_system(C, Dx) \n",
    "        alpha_y = self.solve_reduced_sparse_system(C, Dy)\n",
    "\n",
    "        return alpha_x, alpha_y, tiles\n",
    "    \n",
    "    def solve_reduced_sparse_system(self, A, b):\n",
    "        # Create masks for rows and columns to keep\n",
    "        num_rows, _ = A.shape\n",
    "        mask = np.ones(num_rows, dtype=bool)\n",
    "        \n",
    "        row_sums = np.abs(A).sum(axis=1).A1 \n",
    "        indices_to_remove = np.where(row_sums == 0)[0]\n",
    "\n",
    "        # Set the rows and columns to remove as False in the mask\n",
    "        mask[indices_to_remove] = False\n",
    "        \n",
    "        # Reduce the matrix and vector using the mask\n",
    "        A_reduced = A[mask][:, mask[:-1]]\n",
    "        b_reduced = b[mask]\n",
    "\n",
    "        # Solve the reduced system\n",
    "        x_reduced = scipy.sparse.linalg.lsqr(A_reduced, b_reduced)[0]\n",
    "        \n",
    "        # Initialize the solution vector for the original system\n",
    "        x = np.zeros(num_rows - 1)\n",
    "        \n",
    "        # Place the reduced solution back into the original solution vector\n",
    "        x[mask[:-1]] = x_reduced\n",
    "        \n",
    "        return x\n",
    "    \n",
    "    def __call__(self, calculation=\"full\", return_alphas=False, num_layers=None):\n",
    "\n",
    "        num_tiles = np.shape(self.super_V_coords)[0]\n",
    "\n",
    "        if calculation == \"full\":\n",
    "\n",
    "            alpha_x, alpha_y = self.solve_for_bilinear_coefficients()\n",
    "\n",
    "            Q = [np.zeros((2, 2)) for _ in range(num_tiles)]\n",
    "            T = [0 for _ in range(num_tiles)]\n",
    "\n",
    "            for v, w in self.E_data:\n",
    "                \n",
    "                l_vw, r_ij = self.E_data[v, w][\"l_vw\"], self.E_data[v, w][\"r_ij\"]\n",
    "                alpha_v = np.array([alpha_x[v], alpha_y[v]])\n",
    "                alpha_w = np.array([alpha_x[w], alpha_y[w]])\n",
    "                fac = (r_ij + alpha_w - alpha_v)\n",
    "                T[self.V_to_super_V[v][\"tile_num\"]] += l_vw\n",
    "                Q[self.V_to_super_V[v][\"tile_num\"]] += fac[:, None] @ fac[None, :] / l_vw\n",
    "\n",
    "        elif calculation == \"partial\":\n",
    "\n",
    "            alpha_x, alpha_y, tiles = self.partial_solve_for_bilinear_coefficients(num_layers)\n",
    "\n",
    "            Q = [np.zeros((2, 2)) for _ in range(num_tiles)]\n",
    "            T = [0 for _ in range(num_tiles)]\n",
    "\n",
    "            for v, w in self.E_data:\n",
    "\n",
    "                if self.V_to_super_V[v][\"tile_index\"] in tiles:\n",
    "                \n",
    "                    l_vw, r_ij = self.E_data[v, w][\"l_vw\"], self.E_data[v, w][\"r_ij\"]\n",
    "                    alpha_v = np.array([alpha_x[v], alpha_y[v]])\n",
    "                    alpha_w = np.array([alpha_x[w], alpha_y[w]])\n",
    "                    fac = (r_ij + alpha_w - alpha_v)\n",
    "                    T[self.V_to_super_V[v][\"tile_num\"]] += l_vw\n",
    "                    Q[self.V_to_super_V[v][\"tile_num\"]] += fac[:, None] @ fac[None, :] / l_vw\n",
    "\n",
    "        if return_alphas:\n",
    "            return Q, T, alpha_x, alpha_y\n",
    "        return Q, T\n",
    "    \n",
    "    def generate_anticlockwise_spiral(self, num_layers):\n",
    "        # Initialize the starting point\n",
    "        x, y = 0, 0\n",
    "        coordinates = [(x, y)]\n",
    "        \n",
    "        # Define the movement directions (right, up, left, down)\n",
    "        directions = [(1, 0), (0, 1), (-1, 0), (0, -1)]\n",
    "        \n",
    "        # Initialize the step sizes for each direction\n",
    "        steps = 1\n",
    "        \n",
    "        while len(coordinates) < (2*num_layers + 1)**2:\n",
    "            for direction in directions:\n",
    "                dx, dy = direction\n",
    "                for _ in range(steps):\n",
    "                    x += dx\n",
    "                    y += dy\n",
    "                    coordinates.append((x, y))\n",
    "                    if len(coordinates) == (2*num_layers + 1)**2:\n",
    "                        break\n",
    "                if direction == directions[1] or direction == directions[3]:\n",
    "                    steps += 1\n",
    "                if len(coordinates) == (2*num_layers + 1)**2:\n",
    "                    break\n",
    "        \n",
    "        return np.array(coordinates)"
   ]
  },
  {
   "cell_type": "code",
   "execution_count": null,
   "metadata": {},
   "outputs": [],
   "source": []
  },
  {
   "cell_type": "code",
   "execution_count": 17,
   "metadata": {},
   "outputs": [
    {
     "data": {
      "image/png": "[encoded data removed]",
      "text/plain": [
       "<Figure size 300x300 with 1 Axes>"
      ]
     },
     "metadata": {},
     "output_type": "display_data"
    }
   ],
   "source": [
    "calculate_eigenvalues = False\n",
    "N = 2\n",
    "np.random.seed(6)\n",
    "num_Vs_for_tile = 100\n",
    "g = construct_graph.tiling.Tiling(tile_type=\"truncated_square\", \n",
    "                                  num_Vs_for_tile=num_Vs_for_tile, \n",
    "                                  num_horizontal_displacements=N, \n",
    "                                  num_vertical_displacements=N,\n",
    "                                  autoplot=False, figsize=5)\n",
    "g.plot_graph(figsize=3, linewidth=1, capstyle=False)\n",
    "\n",
    "if calculate_eigenvalues:\n",
    "    guesses = np.linspace(3.5, 5, 50)\n",
    "    eigs = solve_laplace_operator.solve_laplace_operator.Eigenvalue_Calculator(g)\n",
    "    ks = eigs(guesses, printerval=1, max_steps=1000, tol=1e-12, solve_type=\"SVD iterate\")\n",
    "    _, index = np.unique(np.round(ks, 6), return_index=True)\n",
    "    eigenvalues = ks[index]\n",
    "    print(np.mean(eigenvalues) / calculate_pde_eigenvalues(1, 0))\n",
    "    print(eigenvalues / calculate_pde_eigenvalues(1, 0))"
   ]
  },
  {
   "cell_type": "code",
   "execution_count": 18,
   "metadata": {},
   "outputs": [
    {
     "name": "stdout",
     "output_type": "stream",
     "text": [
      "0.9714045207910318\n"
     ]
    }
   ],
   "source": [
    "num_patches_per_dim = 2\n",
    "R = Renormalization(g, num_patches_per_dim=num_patches_per_dim, autoplot=False)\n",
    "# R.plot_patching(plot_V_nums=False, figsize=5)\n",
    "Q, T = R()\n",
    "QQ = []\n",
    "for i, j in zip(Q, T):\n",
    "    if np.abs(j) > 1e-13:\n",
    "        QQ.append(i / j)\n",
    "print(np.trace(np.mean(QQ, axis=0)))"
   ]
  },
  {
   "cell_type": "code",
   "execution_count": 19,
   "metadata": {},
   "outputs": [
    {
     "data": {
      "text/plain": [
       "0.9714045207910317"
      ]
     },
     "execution_count": 19,
     "metadata": {},
     "output_type": "execute_result"
    }
   ],
   "source": [
    "(1+np.sqrt(2))**2/12*2"
   ]
  },
  {
   "cell_type": "code",
   "execution_count": 74,
   "metadata": {},
   "outputs": [],
   "source": [
    "tile_V_coords = g.V_coords[R.super_V_to_V[9]]\n",
    "N = 1\n",
    "gg = construct_graph.tiling.Tiling(tile_type=\"uniformly_random_Delaunay_triangulated\", tile_V_coords=tile_V_coords,\n",
    "                                    num_horizontal_displacements=N, \n",
    "                                    num_vertical_displacements=N,\n",
    "                                    autoplot=False, figsize=5)"
   ]
  },
  {
   "cell_type": "code",
   "execution_count": null,
   "metadata": {},
   "outputs": [],
   "source": []
  },
  {
   "cell_type": "code",
   "execution_count": null,
   "metadata": {},
   "outputs": [],
   "source": []
  },
  {
   "cell_type": "code",
   "execution_count": null,
   "metadata": {},
   "outputs": [],
   "source": []
  },
  {
   "cell_type": "code",
   "execution_count": 4,
   "metadata": {},
   "outputs": [
    {
     "name": "stdout",
     "output_type": "stream",
     "text": [
      "3\n",
      "4\n",
      "5\n",
      "6\n",
      "7\n",
      "8\n",
      "9\n",
      "10\n",
      "11\n",
      "12\n",
      "13\n",
      "14\n",
      "15\n",
      "16\n",
      "17\n",
      "18\n",
      "19\n",
      "20\n",
      "21\n",
      "22\n",
      "23\n",
      "24\n",
      "25\n",
      "26\n",
      "27\n",
      "28\n",
      "29\n",
      "30\n",
      "31\n",
      "32\n",
      "33\n",
      "34\n",
      "35\n",
      "36\n",
      "37\n",
      "38\n",
      "39\n",
      "40\n",
      "41\n",
      "42\n",
      "43\n",
      "44\n",
      "45\n",
      "46\n",
      "47\n",
      "48\n",
      "49\n"
     ]
    }
   ],
   "source": [
    "QQ = []\n",
    "\n",
    "for num_patches_per_dim in range(3, 50):\n",
    "    print(num_patches_per_dim)\n",
    "    R = Renormalization(g, num_patches_per_dim=num_patches_per_dim, autoplot=False)\n",
    "    Q, T = R()\n",
    "    QQ.append(np.trace(np.mean([i / j for i, j in zip(Q, T)], axis=0)))"
   ]
  },
  {
   "cell_type": "code",
   "execution_count": 9,
   "metadata": {},
   "outputs": [],
   "source": [
    "mean_num_Vs_per_patch = g.num_Vs / np.arange(3, 50)**2"
   ]
  },
  {
   "cell_type": "code",
   "execution_count": 48,
   "metadata": {},
   "outputs": [
    {
     "data": {
      "image/png": "[encoded data removed]",
      "text/plain": [
       "<Figure size 640x480 with 1 Axes>"
      ]
     },
     "metadata": {},
     "output_type": "display_data"
    }
   ],
   "source": [
    "truncate = 3\n",
    "plt.loglog(mean_num_Vs_per_patch[truncate:], QQ[truncate:], 'o-')\n",
    "plt.plot([0, 5e4],[0.96, 0.96], linewidth=2, label=\"trace(Q) from NEP = 0.96\")\n",
    "plt.xlim(0.9*np.min(mean_num_Vs_per_patch[truncate:]), 1.1*np.max(mean_num_Vs_per_patch[truncate:]))\n",
    "plt.xlabel(\"num_Vs per patch\", fontsize=15)\n",
    "plt.ylabel(\"trace(Q)\", fontsize=15)\n",
    "plt.legend()\n",
    "plt.show()"
   ]
  },
  {
   "cell_type": "code",
   "execution_count": 49,
   "metadata": {},
   "outputs": [],
   "source": [
    "# data = {\"info\": \"seed=6, num_Vs=1e5 for uniformly_random_Delaunay_triangulated\", \"num_patches_per_dim\": np.arange(3, 50), \"trace(Q)\": QQ}"
   ]
  },
  {
   "cell_type": "code",
   "execution_count": null,
   "metadata": {},
   "outputs": [],
   "source": []
  }
 ],
 "metadata": {
  "kernelspec": {
   "display_name": "base",
   "language": "python",
   "name": "python3"
  },
  "language_info": {
   "codemirror_mode": {
    "name": "ipython",
    "version": 3
   },
   "file_extension": ".py",
   "mimetype": "text/x-python",
   "name": "python",
   "nbconvert_exporter": "python",
   "pygments_lexer": "ipython3",
   "version": "3.10.12"
  }
 },
 "nbformat": 4,
 "nbformat_minor": 2
}
